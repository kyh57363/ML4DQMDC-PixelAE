{
 "cells": [
  {
   "cell_type": "code",
   "execution_count": 29,
   "id": "50f6f0fb",
   "metadata": {},
   "outputs": [
    {
     "data": {
      "text/plain": [
       "<module 'HyperRectangleFitter' from '/eos/home-i01/k/khowey/SWAN_projects/ML4DQMDC-PixelAE/KH-AutoencoderTest/../src/cloudfitters/HyperRectangleFitter.py'>"
      ]
     },
     "execution_count": 29,
     "metadata": {},
     "output_type": "execute_result"
    }
   ],
   "source": [
    "### imports\n",
    "\n",
    "# external modules\n",
    "import os\n",
    "from os.path import exists\n",
    "import os.path\n",
    "import sys\n",
    "import itertools\n",
    "import numpy as np\n",
    "import matplotlib.pyplot as plt\n",
    "import importlib\n",
    "from sklearn.model_selection import train_test_split\n",
    "import tensorflow as tf\n",
    "from tensorflow import keras\n",
    "from keras import backend as K\n",
    "from tensorflow.keras.callbacks import ModelCheckpoint, EarlyStopping\n",
    "from tensorflow.keras.layers import Input, Dense, Concatenate\n",
    "from tensorflow.keras.models import Model, Sequential, load_model\n",
    "import importlib\n",
    "\n",
    "# local modules\n",
    "sys.path.append('../utils')\n",
    "import csv_utils as csvu\n",
    "import json_utils as jsonu\n",
    "import dataframe_utils as dfu\n",
    "import hist_utils as hu\n",
    "import autoencoder_utils as aeu\n",
    "import plot_utils as pu\n",
    "import generate_data_utils as gdu\n",
    "import refruns_utils as rru\n",
    "importlib.reload(csvu)\n",
    "importlib.reload(jsonu)\n",
    "importlib.reload(dfu)\n",
    "importlib.reload(hu)\n",
    "importlib.reload(aeu)\n",
    "importlib.reload(pu)\n",
    "importlib.reload(gdu)\n",
    "importlib.reload(rru)\n",
    "sys.path.append('../src')\n",
    "sys.path.append('../src/classifiers')\n",
    "sys.path.append('../src/cloudfitters')\n",
    "import HistStruct\n",
    "importlib.reload(HistStruct)\n",
    "import SubHistStruct\n",
    "importlib.reload(SubHistStruct)\n",
    "import DataLoader\n",
    "importlib.reload(DataLoader)\n",
    "import AutoEncoder\n",
    "importlib.reload(AutoEncoder)\n",
    "import SeminormalFitter\n",
    "import GaussianKdeFitter\n",
    "import HyperRectangleFitter\n",
    "importlib.reload(SeminormalFitter)\n",
    "importlib.reload(GaussianKdeFitter)\n",
    "importlib.reload(HyperRectangleFitter)"
   ]
  },
  {
   "cell_type": "code",
   "execution_count": 30,
   "id": "45d16d13",
   "metadata": {},
   "outputs": [],
   "source": [
    "year = '2017'\n",
    "era = 'B'\n",
    "\n",
    "datadir = '../data/' + year+era + '/'"
   ]
  },
  {
   "cell_type": "code",
   "execution_count": 54,
   "id": "4e93aaae",
   "metadata": {},
   "outputs": [],
   "source": [
    "blk1Vars = ['chargeInner', 'chargeOuter', 'adc', 'size']\n",
    "blk2Vars = ['NormalizedHitResiduals', 'Summary_ClusterStoNCorr__OnTrack_',\n",
    "            'Summary_TotalNumberOfDigis_']\n",
    "blk3Vars = ['NumberOfTracks', 'NumberOfRecHitsPerTrack', 'Chi2oNDF',\n",
    "            'goodvtxNbr'] \n",
    "miscVars = ['NumberOfClustersInPixel', 'num_clusters_ontrack_PXBarrel', \n",
    "            'num_clusters_ontrack_PXForward', 'NumberOfClustersInStrip']"
   ]
  },
  {
   "cell_type": "code",
   "execution_count": 32,
   "id": "0517e2e3",
   "metadata": {},
   "outputs": [],
   "source": [
    "### Get the different permutations for block 1\n",
    "combosBlk1 = []\n",
    "histcount = 0\n",
    "modelcount = 0\n",
    "for size in range(1, len(blk1Vars) + 1):\n",
    "    # Get every combination of given size\n",
    "    thisList = list(itertools.combinations(blk1Vars, size))\n",
    "    \n",
    "    \n",
    "    ## Applying rules\n",
    "    for item in thisList:\n",
    "        \n",
    "        if 'chargeInner' not in item: continue\n",
    "        \n",
    "        subList = []\n",
    "        subListPX = []\n",
    "        subListDSP = []\n",
    "        subListDSN = []\n",
    "        # Getting individual histograms to set appropriate names\n",
    "        for element in item:\n",
    "            \n",
    "            # Need to treat chargeInner the same as 'charge' for disks\n",
    "            if element == 'chargeInner':\n",
    "                for i in range(1, 4):\n",
    "                    subListDSP.append('charge_PXDisk_+' + str(i))\n",
    "                    subListDSN.append('charge_PXDisk_-' + str(i))\n",
    "                    \n",
    "            elif element != 'chargeOuter':\n",
    "                for i in range(1, 4):\n",
    "                    subListDSP.append(element + '_PXDisk_+' + str(i))\n",
    "                    subListDSN.append(element + '_PXDisk_-' + str(i))\n",
    "            # PXlayers\n",
    "            for i in range(1, 5):\n",
    "                subListPX.append(element + '_PXLayer_' + str(i))\n",
    "        \n",
    "        subList.append(subListPX)\n",
    "        subList.append(subListDSP)\n",
    "        subList.append(subListDSN)\n",
    "        \n",
    "        combosBlk1.append(subList)"
   ]
  },
  {
   "cell_type": "code",
   "execution_count": 57,
   "id": "b66dce4f",
   "metadata": {},
   "outputs": [
    {
     "name": "stdout",
     "output_type": "stream",
     "text": [
      "[['Summary_ClusterStoNCorr__OnTrack__TIB__layer__1', 'Summary_ClusterStoNCorr__OnTrack__TIB__layer__2', 'Summary_ClusterStoNCorr__OnTrack__TIB__layer__3', 'Summary_ClusterStoNCorr__OnTrack__TIB__layer__4'], ['Summary_ClusterStoNCorr__OnTrack__TOB__layer__1', 'Summary_ClusterStoNCorr__OnTrack__TOB__layer__2', 'Summary_ClusterStoNCorr__OnTrack__TOB__layer__3', 'Summary_ClusterStoNCorr__OnTrack__TOB__layer__4', 'Summary_ClusterStoNCorr__OnTrack__TOB__layer__5', 'Summary_ClusterStoNCorr__OnTrack__TOB__layer__6'], ['Summary_ClusterStoNCorr__OnTrack__TID__PLUS__wheel__1', 'Summary_ClusterStoNCorr__OnTrack__TID__PLUS__wheel__2', 'Summary_ClusterStoNCorr__OnTrack__TID__PLUS__wheel__3'], ['Summary_ClusterStoNCorr__OnTrack__TID__MINUS__wheel__1', 'Summary_ClusterStoNCorr__OnTrack__TID__MINUS__wheel__2', 'Summary_ClusterStoNCorr__OnTrack__TID__MINUS__wheel__3'], ['Summary_ClusterStoNCorr__OnTrack__TEC__PLUS__wheel__1', 'Summary_ClusterStoNCorr__OnTrack__TEC__PLUS__wheel__2', 'Summary_ClusterStoNCorr__OnTrack__TEC__PLUS__wheel__3', 'Summary_ClusterStoNCorr__OnTrack__TEC__PLUS__wheel__4', 'Summary_ClusterStoNCorr__OnTrack__TEC__PLUS__wheel__5', 'Summary_ClusterStoNCorr__OnTrack__TEC__PLUS__wheel__6', 'Summary_ClusterStoNCorr__OnTrack__TEC__PLUS__wheel__7', 'Summary_ClusterStoNCorr__OnTrack__TEC__PLUS__wheel__8', 'Summary_ClusterStoNCorr__OnTrack__TEC__PLUS__wheel__9'], ['Summary_ClusterStoNCorr__OnTrack__TEC__MINUS__wheel__1', 'Summary_ClusterStoNCorr__OnTrack__TEC__MINUS__wheel__2', 'Summary_ClusterStoNCorr__OnTrack__TEC__MINUS__wheel__3', 'Summary_ClusterStoNCorr__OnTrack__TEC__MINUS__wheel__4', 'Summary_ClusterStoNCorr__OnTrack__TEC__MINUS__wheel__5', 'Summary_ClusterStoNCorr__OnTrack__TEC__MINUS__wheel__6', 'Summary_ClusterStoNCorr__OnTrack__TEC__MINUS__wheel__7', 'Summary_ClusterStoNCorr__OnTrack__TEC__MINUS__wheel__8', 'Summary_ClusterStoNCorr__OnTrack__TEC__MINUS__wheel__9']]\n"
     ]
    }
   ],
   "source": [
    "### Permutations for block 2\n",
    "combosBlk2 = []\n",
    "for size in range(1, len(blk2Vars) + 1):\n",
    "    # Get every combination of given size\n",
    "    thisList = list(itertools.combinations(blk2Vars, size))\n",
    "    \n",
    "    \n",
    "    ## Applying rules\n",
    "    for item in thisList:\n",
    "        if 'Summary_ClusterStoNCorr__OnTrack_' not in item: continue\n",
    "            \n",
    "        subList = []\n",
    "        subTIB = []\n",
    "        subTOB = []\n",
    "        subTIDP = []\n",
    "        subTIDN = []\n",
    "        subTECP = []\n",
    "        subTECN = []\n",
    "        \n",
    "        # Getting individual histograms to set appropriate names\n",
    "        for element in item:\n",
    "            \n",
    "            # Special case\n",
    "            if element != 'NormalizedHitResiduals':\n",
    "                for i in range(1, 10):\n",
    "                    subTECN.append(element + '_TEC__MINUS__wheel__' + str(i))\n",
    "                    subTECP.append(element + '_TEC__PLUS__wheel__' + str(i))\n",
    "                    \n",
    "                for i in range(1, 4):\n",
    "                    subTIDN.append(element + '_TID__MINUS__wheel__' + str(i))\n",
    "                    subTIDP.append(element + '_TID__PLUS__wheel__' + str(i))\n",
    "                    \n",
    "                for i in range(1, 5):\n",
    "                    subTIB.append(element + '_TIB__layer__' + str(i))\n",
    "            \n",
    "                for i in range(1, 7):\n",
    "                    subTOB.append(element + '_TOB__layer__' + str(i))\n",
    "                    \n",
    "            else: \n",
    "                for i  in range(1, 10):\n",
    "                    subTECN.append(element + '_TEC__wheel__' + str(i))\n",
    "                    \n",
    "                for i in range(1, 4):\n",
    "                    subTIDN.append(element + '_TID__wheel__' + str(i))\n",
    "                    \n",
    "                for i in range(1, 5):\n",
    "                    subTIB.append(element + '_TIB__Layer__' + str(i))\n",
    "            \n",
    "                for i in range(1, 7):\n",
    "                    subTOB.append(element + '_TOB__Layer__' + str(i))\n",
    "\n",
    "        subList.append(subTIB)\n",
    "        subList.append(subTOB)\n",
    "        if len(subTIDP) > 0:\n",
    "            subList.append(subTIDP)\n",
    "        subList.append(subTIDN)\n",
    "        if len(subTECP) > 0:\n",
    "            subList.append(subTECP)\n",
    "        subList.append(subTECN)\n",
    "        combosBlk2.append(subList)\n",
    "\n",
    "print(combosBlk2[0])"
   ]
  },
  {
   "cell_type": "code",
   "execution_count": 58,
   "id": "044be4bf",
   "metadata": {},
   "outputs": [
    {
     "name": "stdout",
     "output_type": "stream",
     "text": [
      "[['NumberOfRecHitsPerTrack_lumiFlag_GenTk']]\n"
     ]
    }
   ],
   "source": [
    "### Permutations for block 3\n",
    "combosBlk3 = []\n",
    "\n",
    "for size in range(1, len(blk3Vars) + 1):\n",
    "    # Get every combination of given size\n",
    "    thisList = list(itertools.combinations(blk3Vars, size))\n",
    "    \n",
    "    ## Applying rules\n",
    "    for item in thisList:\n",
    "        if 'NumberOfRecHitsPerTrack' not in item: continue\n",
    "         \n",
    "        subList = []\n",
    "        for element in item:\n",
    "            if element !='goodvtxNbr':\n",
    "                subList.append(element + '_lumiFlag_GenTk')\n",
    "            else:\n",
    "                subList.append(element)\n",
    "        \n",
    "        combosBlk3.append([subList])\n",
    "\n",
    "print(combosBlk3[0])"
   ]
  },
  {
   "cell_type": "code",
   "execution_count": 59,
   "id": "6052c8dc",
   "metadata": {},
   "outputs": [
    {
     "name": "stdout",
     "output_type": "stream",
     "text": [
      "[[]]\n"
     ]
    }
   ],
   "source": [
    "### Permutations for block 4\n",
    "combosBlk4 = []\n",
    "\n",
    "for size in range(0, len(miscVars) + 1):\n",
    "    # Get every combination of given size\n",
    "    thisList = list(itertools.combinations(miscVars, size))\n",
    "    \n",
    "    ## Applying rules\n",
    "    for item in thisList:\n",
    "        subList = []\n",
    "        subSubList = []\n",
    "        for element in item:\n",
    "            subSubList.append(element)\n",
    "    \n",
    "        subList.append(subSubList)\n",
    "        combosBlk4.append(subList)\n",
    "\n",
    "print(combosBlk4[0])"
   ]
  },
  {
   "cell_type": "code",
   "execution_count": 62,
   "id": "3335f588",
   "metadata": {},
   "outputs": [
    {
     "name": "stdout",
     "output_type": "stream",
     "text": [
      "Concatamash: 44800\n",
      "Combined: 362496\n",
      "4096\n"
     ]
    }
   ],
   "source": [
    "### Parsing combinations to create histlists\n",
    "histlists = []\n",
    "conmodelcount = 0\n",
    "combmodelcount = 0\n",
    "for combo1 in combosBlk1:\n",
    "    for combo2 in combosBlk2:\n",
    "        for combo3 in combosBlk3:\n",
    "            for combo4 in combosBlk4:\n",
    "                curList = []\n",
    "                for element in combo1:\n",
    "                    curList.append(element)\n",
    "                for element in combo2:\n",
    "                    curList.append(element)\n",
    "                for element in combo3:\n",
    "                    curList.append(element)\n",
    "                for element in combo4:\n",
    "                    if len(element) > 0:\n",
    "                        curList.append(element)\n",
    "                \n",
    "                # Sanity check that all files exist\n",
    "                for histgroup in curList:\n",
    "                    for hist in histgroup:\n",
    "                        filename = 'DF' + year + era + '_' + hist +'.csv'\n",
    "                        path = datadir + filename\n",
    "                        if not os.path.exists(path):\n",
    "                            raise Exception('Histogram {} does not exist!'.format(hist))\n",
    "                histlists.append(curList)\n",
    "                \n",
    "for histlist in histlists:\n",
    "    for histgroup in histlist:\n",
    "        conmodelcount = conmodelcount + 1\n",
    "        for hist in histgroup:\n",
    "            combmodelcount = combmodelcount + 1\n",
    "print('Concatamash: ' + str(conmodelcount))\n",
    "print('Combined: ' + str(combmodelcount))\n",
    "\n",
    "print(len(histlists))"
   ]
  },
  {
   "cell_type": "code",
   "execution_count": null,
   "id": "28b82dbb",
   "metadata": {},
   "outputs": [],
   "source": []
  },
  {
   "cell_type": "code",
   "execution_count": null,
   "id": "585330ac",
   "metadata": {},
   "outputs": [],
   "source": []
  }
 ],
 "metadata": {
  "kernelspec": {
   "display_name": "Python 3",
   "language": "python",
   "name": "python3"
  },
  "language_info": {
   "codemirror_mode": {
    "name": "ipython",
    "version": 3
   },
   "file_extension": ".py",
   "mimetype": "text/x-python",
   "name": "python",
   "nbconvert_exporter": "python",
   "pygments_lexer": "ipython3",
   "version": "3.9.6"
  }
 },
 "nbformat": 4,
 "nbformat_minor": 5
}
