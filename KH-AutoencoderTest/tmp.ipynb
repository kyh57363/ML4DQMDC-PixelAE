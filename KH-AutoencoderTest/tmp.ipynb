{
 "cells": [
  {
   "cell_type": "code",
   "execution_count": 8,
   "id": "ba412492",
   "metadata": {},
   "outputs": [
    {
     "data": {
      "text/plain": [
       "<module 'HistStruct' from '/eos/home-i01/k/khowey/SWAN_projects/ML4DQMDC-PixelAE/KH-AutoencoderTest/../src/HistStruct.py'>"
      ]
     },
     "execution_count": 8,
     "metadata": {},
     "output_type": "execute_result"
    }
   ],
   "source": [
    "### imports\n",
    "\n",
    "# external modules\n",
    "import sys\n",
    "import os\n",
    "import numpy as np\n",
    "import matplotlib.pyplot as plt\n",
    "from keras import backend as K\n",
    "import tensorflow as tf\n",
    "from tensorflow.keras.models import load_model\n",
    "import importlib\n",
    "\n",
    "# local modules\n",
    "sys.path.append('../utils')\n",
    "import csv_utils as csvu\n",
    "import dataframe_utils as dfu\n",
    "import hist_utils as hu\n",
    "import autoencoder_utils as aeu\n",
    "import plot_utils as pu\n",
    "import generate_data_utils as gdu\n",
    "importlib.reload(dfu)\n",
    "importlib.reload(hu)\n",
    "importlib.reload(aeu)\n",
    "importlib.reload(pu)\n",
    "importlib.reload(gdu)\n",
    "sys.path.append('../src')\n",
    "sys.path.append('../src/classifiers')\n",
    "sys.path.append('../src/cloudfitters')\n",
    "import DataLoader\n",
    "importlib.reload(DataLoader)\n",
    "import HistStruct\n",
    "importlib.reload(HistStruct)"
   ]
  },
  {
   "cell_type": "code",
   "execution_count": 2,
   "id": "45931fb1",
   "metadata": {},
   "outputs": [
    {
     "name": "stdout",
     "output_type": "stream",
     "text": [
      "Histograms to process: 2\n"
     ]
    }
   ],
   "source": [
    "### Set Data Controls\n",
    "\n",
    "year = '2017' # Data-taking year\n",
    "eras = ['B'] # List of eras\n",
    "dim = 1 # Dimension of histograms (1D or 2D)\n",
    "# May need alteration later, but this is the only data directory I have perms for\n",
    "datadir = '/eos/user/j/jmhogan/TrackerDQM/DF2017B_1D_Complete/'\n",
    "outputdir = '../data/'\n",
    "\n",
    "# For now, have the user manually select histograms\n",
    "# In the future, could read all histograms from file\n",
    "histnames = ([\n",
    "    'NormalizedHitResiduals_TIB__Layer__1',\n",
    "    'Summary_ClusterStoNCorr__OnTrack__TIB__layer__1',\n",
    "    #'NormalizedHitResiduals_TIB__Layer__2',\n",
    "    #'Summary_ClusterStoNCorr__OnTrack__TIB__layer__2',\n",
    "    #'chargeInner_PXLayer_1',\n",
    "    #'chargeInner_PXLayer_2',\n",
    "    #'chargeOuter_PXLayer_1',\n",
    "    #'chargeOuter_PXLayer_2'\n",
    "])\n",
    "\n",
    "print('Histograms to process: ' + str(len(histnames)))"
   ]
  },
  {
   "cell_type": "code",
   "execution_count": 3,
   "id": "c0ffebc5",
   "metadata": {},
   "outputs": [
    {
     "name": "stdout",
     "output_type": "stream",
     "text": [
      "\n",
      "Begin processing for era B\n",
      "INFO in csv_utils.py / read_and_merge_csv: reading and merging 33 csv files...\n",
      "  - now processing file 1 of 33...\n",
      "  - now processing file 2 of 33...\n",
      "  - now processing file 3 of 33...\n",
      "  - now processing file 4 of 33...\n",
      "  - now processing file 5 of 33...\n",
      "  - now processing file 6 of 33...\n",
      "  - now processing file 7 of 33...\n",
      "  - now processing file 8 of 33...\n",
      "  - now processing file 9 of 33...\n",
      "  - now processing file 10 of 33...\n",
      "  - now processing file 11 of 33...\n",
      "  - now processing file 12 of 33...\n",
      "  - now processing file 13 of 33...\n",
      "  - now processing file 14 of 33...\n",
      "  - now processing file 15 of 33...\n",
      "  - now processing file 16 of 33...\n",
      "  - now processing file 17 of 33...\n",
      "  - now processing file 18 of 33...\n",
      "  - now processing file 19 of 33...\n",
      "  - now processing file 20 of 33...\n",
      "  - now processing file 21 of 33...\n",
      "  - now processing file 22 of 33...\n",
      "  - now processing file 23 of 33...\n",
      "  - now processing file 24 of 33...\n",
      "  - now processing file 25 of 33...\n",
      "  - now processing file 26 of 33...\n",
      "  - now processing file 27 of 33...\n",
      "  - now processing file 28 of 33...\n",
      "  - now processing file 29 of 33...\n",
      "  - now processing file 30 of 33...\n",
      "  - now processing file 31 of 33...\n",
      "  - now processing file 32 of 33...\n",
      "  - now processing file 33 of 33...\n",
      "INFO in csv_utils.py / read_and_merge_csv: merged 33 csv files.\n",
      "Creating file ../data/DF2017B_NormalizedHitResiduals_TIB__Layer__1.csv\n",
      "WARNING in DataLoader.write_dataframe_to_file: output file ../data/DF2017B_NormalizedHitResiduals_TIB__Layer__1.csv already exists; overwriting...\n",
      "Creating file ../data/DF2017B_Summary_ClusterStoNCorr__OnTrack__TIB__layer__1.csv\n",
      "WARNING in DataLoader.write_dataframe_to_file: output file ../data/DF2017B_Summary_ClusterStoNCorr__OnTrack__TIB__layer__1.csv already exists; overwriting...\n"
     ]
    }
   ],
   "source": [
    "### Read and Format CSV Files\n",
    "# CSV files are formatted into CSvs with one histogram type each (with the full year's data)\n",
    "# Note: This cell can take quite a while to run!\n",
    "\n",
    "# Select whether to used previously processed data\n",
    "readnew = True\n",
    "save = True\n",
    "\n",
    "# Stores our histograms in a dictionary for use\n",
    "histograms = {}\n",
    "\n",
    "# Loop over eras\n",
    "for era in eras:\n",
    "    print('\\nBegin processing for era ' + era)\n",
    "    \n",
    "    # Create a DataLoader instance\n",
    "    dloader = DataLoader.DataLoader()\n",
    "\n",
    "    # Get the CSV files (if the line above is altered to be a list, remove the brackets)\n",
    "    csvfiles = dloader.get_csv_files_in_dirs([datadir])\n",
    "    df = dloader.get_dataframe_from_files(csvfiles, histnames = histnames)\n",
    "    \n",
    "    # Loop over histnames and write one file per histogram type\n",
    "    for histname in histnames:\n",
    "        thisdf = dfu.select_histnames(df, [histname])\n",
    "        histograms[histname] = thisdf\n",
    "        \n",
    "        # Save the histogram for reference\n",
    "        outputfile = 'DF' + year + era + '_' + histname + '.csv'\n",
    "        print('Creating file ' + outputdir + outputfile)\n",
    "        dloader.write_dataframe_to_file(thisdf, os.path.join(outputdir, outputfile))\n"
   ]
  },
  {
   "cell_type": "code",
   "execution_count": 51,
   "id": "857c58a7",
   "metadata": {},
   "outputs": [
    {
     "name": "stdout",
     "output_type": "stream",
     "text": [
      "Processing NormalizedHitResiduals_TIB__Layer__1 with 28335 lumisections\n",
      "Number of passing lumisections after DCS selection: 27185\n",
      "Number of passing lumisections after high statistics selection: 26975\n",
      "\n",
      "Processing Summary_ClusterStoNCorr__OnTrack__TIB__layer__1 with 28335 lumisections\n",
      "Number of passing lumisections after DCS selection: 27185\n",
      "Number of passing lumisections after high statistics selection: 27044\n",
      "\n"
     ]
    }
   ],
   "source": [
    "### Filtering\n",
    "for histname in histnames:\n",
    "    df = histograms[histname]\n",
    "    print('Processing ' + histname + ' with {} lumisections'.format(len(df)))\n",
    "    df = dfu.select_dcson(df)\n",
    "    print('Number of passing lumisections after DCS selection: {}'.format(len(df)))\n",
    "\n",
    "    # Not sure what entries to bins ratio is\n",
    "    df = dfu.select_highstat(df, entries_to_bins_ratio=100)\n",
    "    print('Number of passing lumisections after high statistics selection: {}\\n'.format(len(df)))\n",
    "    histograms[histname] = df"
   ]
  },
  {
   "cell_type": "code",
   "execution_count": 52,
   "id": "a7b06c19",
   "metadata": {},
   "outputs": [
    {
     "name": "stdout",
     "output_type": "stream",
     "text": [
      "Size of training set:(26975, 102)\n"
     ]
    },
    {
     "data": {
      "image/png": "[encoded data removed]",
      "text/plain": [
       "<Figure size 432x288 with 1 Axes>"
      ]
     },
     "metadata": {
      "needs_background": "light"
     },
     "output_type": "display_data"
    },
    {
     "name": "stdout",
     "output_type": "stream",
     "text": [
      "Size of training set:(27044, 102)\n"
     ]
    },
    {
     "data": {
      "image/png": "[encoded data removed]",
      "text/plain": [
       "<Figure size 432x288 with 1 Axes>"
      ]
     },
     "metadata": {
      "needs_background": "light"
     },
     "output_type": "display_data"
    }
   ],
   "source": [
    "### Data preprocessing\n",
    "\n",
    "# Setting a rebinning factor (I think this is multiplied/divided to bin count)\n",
    "rebinningfactor = 1\n",
    "X_train_list = []\n",
    "\n",
    "# Setting up a set of training data\n",
    "# Donormalize and doplot tell the function whether to normalize and plot respectively\n",
    "for histname in histnames:\n",
    "    df = histograms[histname]\n",
    "    train_hist = hu.preparedatafromdf(df, rebinningfactor = rebinningfactor,\n",
    "                              donormalize=True,doplot=True)\n",
    "    X_train_list.append(train_hist)\n",
    "    print('Size of training set:' + str(train_hist.shape))\n",
    "    plt.show()"
   ]
  },
  {
   "cell_type": "code",
   "execution_count": 9,
   "id": "a1167afd",
   "metadata": {},
   "outputs": [],
   "source": [
    "### A method to build 1D autoencoders off of subsets of the data\n",
    "#\n",
    "def build1DAutoencoder(hist_selections):\n",
    "    \n",
    "    # Setting a rebinning factor\n",
    "    rebinningfactor = 1\n",
    "    \n",
    "    ## Data preprocessing\n",
    "    \n",
    "    filenames = []\n",
    "    # Selects specified histograms to use in training\n",
    "    for histname in histnames:\n",
    "        filenames.append(outputdir + 'DF2017B_' + histname + '.csv')\n",
    "        \n",
    "    print(filenames)\n",
    "    df = csvu.read_and_merge_csv(filenames, histnames = [], runnbs = [])\n",
    "\n",
    "    df.loc[(df['fromrun'] == 297178) & (df['fromlumi'] == 1283)]\n",
    "    df1 = dfu.merge_ls(df)\n",
    "    df.reset_index(drop=True, inplace = True)\n",
    "    \n",
    "    df.loc[(df['fromrun'] == 297178) & (df['fromlumi'] == 1283)]\n",
    "    df2 = dfu.select_runs(df,[ \n",
    "        297057, 297099, 297101, 297113, 297114, 297175, 297177, 297179, 297215, 297218, 297225, 297296, 297411, 297426, 297431, 297434, 297468, 297483, 297486, 297503, 297557, 297598, 297604, 297620, 297659, 297670, 297674, 297678, 297722, 298997, 299061, 299065, 299067, 299096, 299149, 299178, 299184, 299185, 299327, 299329, 299480])\n",
    "                      #[297050,  297474,299000, 299917]\n",
    "    df2 = dfu.select_dcson(df2)\n",
    "    print('number of passing lumisections after DCS selection: {}'.format( len(df2) ))\n",
    "\n",
    "    df2 = dfu.select_highstat(df2,entries_to_bins_ratio=100)\n",
    "    print('number of passing lumisections after high statistics selection: {}'.format( len(df2) ))\n",
    "    \n",
    "    X_train = hu.preparedatafromdf(df2,rebinningfactor=rebinningfactor,donormalize=True,doplot=True)\n",
    "    \n",
    "    \n",
    "    \n",
    "    "
   ]
  },
  {
   "cell_type": "code",
   "execution_count": 10,
   "id": "3dc93811",
   "metadata": {},
   "outputs": [
    {
     "name": "stdout",
     "output_type": "stream",
     "text": [
      "['../data/DF2017B_NormalizedHitResiduals_TIB__Layer__1.csv', '../data/DF2017B_Summary_ClusterStoNCorr__OnTrack__TIB__layer__1.csv']\n",
      "INFO in csv_utils.py / read_and_merge_csv: reading and merging 2 csv files...\n",
      "  - now processing file 1 of 2...\n",
      "  - now processing file 2 of 2...\n",
      "INFO in csv_utils.py / read_and_merge_csv: merged 2 csv files.\n",
      "number of passing lumisections after DCS selection: 21262\n",
      "number of passing lumisections after high statistics selection: 21178\n"
     ]
    },
    {
     "data": {
      "image/png": "[encoded data removed]",
      "text/plain": [
       "<Figure size 432x288 with 1 Axes>"
      ]
     },
     "metadata": {
      "needs_background": "light"
     },
     "output_type": "display_data"
    }
   ],
   "source": [
    "hist_selections = [0, 1]\n",
    "build1DAutoencoder(hist_selections)\n",
    "plt.show()"
   ]
  },
  {
   "cell_type": "code",
   "execution_count": 11,
   "id": "f421b6dc",
   "metadata": {},
   "outputs": [
    {
     "ename": "NameError",
     "evalue": "name 'nbins' is not defined",
     "output_type": "error",
     "traceback": [
      "\u001b[0;31m---------------------------------------------------------------------------\u001b[0m",
      "\u001b[0;31mNameError\u001b[0m                                 Traceback (most recent call last)",
      "\u001b[0;32m/tmp/ipykernel_575/1353181914.py\u001b[0m in \u001b[0;36m<module>\u001b[0;34m\u001b[0m\n\u001b[1;32m      7\u001b[0m \u001b[0mmodelname\u001b[0m \u001b[0;34m=\u001b[0m \u001b[0;34m'../models/autoencoders_global_training_dcson_highstat_v20220601/_chargeInner_PXLayer_2.h5'\u001b[0m\u001b[0;34m\u001b[0m\u001b[0;34m\u001b[0m\u001b[0m\n\u001b[1;32m      8\u001b[0m \u001b[0;34m\u001b[0m\u001b[0m\n\u001b[0;32m----> 9\u001b[0;31m \u001b[0mprint\u001b[0m\u001b[0;34m(\u001b[0m\u001b[0mnbins\u001b[0m\u001b[0;34m)\u001b[0m\u001b[0;34m\u001b[0m\u001b[0;34m\u001b[0m\u001b[0m\n\u001b[0m\u001b[1;32m     10\u001b[0m \u001b[0;34m\u001b[0m\u001b[0m\n\u001b[1;32m     11\u001b[0m \u001b[0;31m# If training a new model\u001b[0m\u001b[0;34m\u001b[0m\u001b[0;34m\u001b[0m\u001b[0;34m\u001b[0m\u001b[0m\n",
      "\u001b[0;31mNameError\u001b[0m: name 'nbins' is not defined"
     ]
    }
   ],
   "source": [
    "### Model creation and training\n",
    "\n",
    "# Selection to train a new model or load a previous save\n",
    "trainnew = True\n",
    "savemodel = False\n",
    "# Model name should follow the convention specified below\n",
    "modelname = '../models/autoencoders_global_training_dcson_highstat_v20220601/_chargeInner_PXLayer_2.h5'\n",
    "\n",
    "print(nbins)\n",
    "\n",
    "# If training a new model\n",
    "if trainnew:\n",
    "    input_size = nbins\n",
    "    arch = [int(nbins/2.)]\n",
    "    act = ['tanh']*len(arch)\n",
    "    opt = 'adam'\n",
    "    loss = aeu.mseTop10\n",
    "    autoencoder = aeu.getautoencoder(input_size,arch,act,opt,loss)\n",
    "    # Callback function to end training if model stops improving\n",
    "    callback = tf.keras.callbacks.EarlyStopping(monitor='val_loss', patience=10)\n",
    "    print(str(ntrain) + \", \" + str(nbins))\n",
    "    history = autoencoder.fit(X_train, X_train, epochs=200, batch_size=20, shuffle=True, verbose=1, validation_split=0.1, callbacks=[callback])\n",
    "    plot = pu.plot_loss(history, title = 'model loss')\n",
    "\n",
    "# If using a previous model\n",
    "else:\n",
    "    # My understanding is this finds the saved model and sets a specific loss function\n",
    "    autoencoder = load_model(modelname, custom_objects={'mseTop10': aeu.mseTop10})\n",
    "    "
   ]
  },
  {
   "cell_type": "code",
   "execution_count": null,
   "id": "23174df5",
   "metadata": {},
   "outputs": [],
   "source": []
  }
 ],
 "metadata": {
  "kernelspec": {
   "display_name": "Python 3",
   "language": "python",
   "name": "python3"
  },
  "language_info": {
   "codemirror_mode": {
    "name": "ipython",
    "version": 3
   },
   "file_extension": ".py",
   "mimetype": "text/x-python",
   "name": "python",
   "nbconvert_exporter": "python",
   "pygments_lexer": "ipython3",
   "version": "3.9.6"
  }
 },
 "nbformat": 4,
 "nbformat_minor": 5
}
