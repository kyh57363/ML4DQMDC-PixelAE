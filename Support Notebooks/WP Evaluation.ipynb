{
 "cells": [
  {
   "cell_type": "markdown",
   "id": "35149113",
   "metadata": {},
   "source": [
    "# Data Post-Evaluation\n",
    "## This notebook takes in model outputs from a Debug Data CSV and reexamines it"
   ]
  },
  {
   "cell_type": "code",
   "execution_count": 1,
   "id": "90a30f02",
   "metadata": {},
   "outputs": [
    {
     "name": "stderr",
     "output_type": "stream",
     "text": [
      "2022-07-29 22:40:48.859291: W tensorflow/stream_executor/platform/default/dso_loader.cc:64] Could not load dynamic library 'libcudart.so.11.0'; dlerror: libcudart.so.11.0: cannot open shared object file: No such file or directory; LD_LIBRARY_PATH: /cvmfs/sft.cern.ch/lcg/releases/MCGenerators/thepeg/2.2.3-88592/x86_64-centos7-gcc11-opt/lib/ThePEG:/cvmfs/sft.cern.ch/lcg/releases/MCGenerators/herwig++/7.2.3-35f7a/x86_64-centos7-gcc11-opt/lib/Herwig:/cvmfs/sft.cern.ch/lcg/views/LCG_102swan/x86_64-centos7-gcc11-opt/lib/python3.9/site-packages/jaxlib/mlir/_mlir_libs:/cvmfs/sft.cern.ch/lcg/views/LCG_102swan/x86_64-centos7-gcc11-opt/lib/python3.9/site-packages/torch/lib:/cvmfs/sft.cern.ch/lcg/views/LCG_102swan/x86_64-centos7-gcc11-opt/lib/python3.9/site-packages/onnxruntime/capi/:/cvmfs/sft.cern.ch/lcg/views/LCG_102swan/x86_64-centos7-gcc11-opt/lib/python3.9/site-packages/tensorflow:/cvmfs/sft.cern.ch/lcg/views/LCG_102swan/x86_64-centos7-gcc11-opt/lib/python3.9/site-packages/tensorflow/contrib/tensor_forest:/cvmfs/sft.cern.ch/lcg/views/LCG_102swan/x86_64-centos7-gcc11-opt/lib/python3.9/site-packages/tensorflow/python/framework:/cvmfs/sft.cern.ch/lcg/releases/java/11.0.14p1-8284a/x86_64-centos7-gcc11-opt/jre/lib/amd64:/cvmfs/sft.cern.ch/lcg/views/LCG_102swan/x86_64-centos7-gcc11-opt/lib64:/cvmfs/sft.cern.ch/lcg/views/LCG_102swan/x86_64-centos7-gcc11-opt/lib:/cvmfs/sft.cern.ch/lcg/releases/gcc/11.2.0-8a51a/x86_64-centos7/lib:/cvmfs/sft.cern.ch/lcg/releases/gcc/11.2.0-8a51a/x86_64-centos7/lib64:/cvmfs/sft.cern.ch/lcg/releases/binutils/2.37-355ed/x86_64-centos7/lib:/usr/local/lib/:/cvmfs/sft.cern.ch/lcg/releases/R/4.1.2-f9ee4/x86_64-centos7-gcc11-opt/lib64/R/library/readr/rcon\n",
      "2022-07-29 22:40:48.859351: I tensorflow/stream_executor/cuda/cudart_stub.cc:29] Ignore above cudart dlerror if you do not have a GPU set up on your machine.\n"
     ]
    },
    {
     "data": {
      "text/plain": [
       "<module 'HyperRectangleFitter' from '/eos/home-i01/k/khowey/SWAN_projects/ML4DQMDC-PixelAE/Support Notebooks/../src/cloudfitters/HyperRectangleFitter.py'>"
      ]
     },
     "execution_count": 1,
     "metadata": {},
     "output_type": "execute_result"
    }
   ],
   "source": [
    "### imports\n",
    "\n",
    "# external modules\n",
    "import os\n",
    "import sys\n",
    "import time\n",
    "import numpy as np\n",
    "import matplotlib.pyplot as plt\n",
    "import pandas as pd\n",
    "import importlib\n",
    "from sklearn.model_selection import train_test_split\n",
    "import tensorflow as tf\n",
    "from tensorflow import keras\n",
    "from keras import backend as K\n",
    "from tensorflow.keras.callbacks import ModelCheckpoint, EarlyStopping\n",
    "from tensorflow.keras.layers import Input, Dense, Concatenate\n",
    "from tensorflow.keras.models import Model, Sequential, load_model\n",
    "import importlib\n",
    "import pickle\n",
    "import math\n",
    "from sklearn.preprocessing import StandardScaler\n",
    "\n",
    "# local modules\n",
    "sys.path.append('../utils')\n",
    "import csv_utils as csvu\n",
    "import json_utils as jsonu\n",
    "import dataframe_utils as dfu\n",
    "import hist_utils as hu\n",
    "import autoencoder_utils as aeu\n",
    "import plot_utils as pu\n",
    "import generate_data_utils as gdu\n",
    "import refruns_utils as rru\n",
    "importlib.reload(csvu)\n",
    "importlib.reload(jsonu)\n",
    "importlib.reload(dfu)\n",
    "importlib.reload(hu)\n",
    "importlib.reload(aeu)\n",
    "importlib.reload(pu)\n",
    "importlib.reload(gdu)\n",
    "importlib.reload(rru)\n",
    "sys.path.append('../src')\n",
    "sys.path.append('../src/classifiers')\n",
    "sys.path.append('../src/cloudfitters')\n",
    "import HistStruct\n",
    "importlib.reload(HistStruct)\n",
    "import SubHistStruct\n",
    "importlib.reload(SubHistStruct)\n",
    "import FlexiStruct\n",
    "importlib.reload(FlexiStruct)\n",
    "import DataLoader\n",
    "importlib.reload(DataLoader)\n",
    "import AutoEncoder\n",
    "importlib.reload(AutoEncoder)\n",
    "import SeminormalFitter\n",
    "import GaussianKdeFitter\n",
    "import HyperRectangleFitter\n",
    "importlib.reload(SeminormalFitter)\n",
    "importlib.reload(GaussianKdeFitter)\n",
    "importlib.reload(HyperRectangleFitter)"
   ]
  },
  {
   "cell_type": "code",
   "execution_count": 2,
   "id": "5ed49725",
   "metadata": {},
   "outputs": [],
   "source": [
    "### Controls\n",
    "wpBiasFactor = 20\n",
    "fmBiasFactor = 2\n",
    "\n",
    "# Select a Job to examine\n",
    "job = 100\n",
    "\n",
    "badDataLength = 6\n",
    "\n",
    "datadir = '../Output Data/DebugData/'"
   ]
  },
  {
   "cell_type": "code",
   "execution_count": 3,
   "id": "0e5716f0",
   "metadata": {},
   "outputs": [],
   "source": [
    "### Select out the data we want\n",
    "mse_train = np.loadtxt(datadir + 'Train/T{}.csv'.format(job),delimiter = \",\")\n",
    "mse_good_eval = np.loadtxt(datadir + 'Good/G{}.csv'.format(job),delimiter = \",\")\n",
    "mse_bad_eval = []\n",
    "for i in range(badDataLength):\n",
    "    mse_bad_eval.append(np.loadtxt(datadir + 'Bad/B{}p{}.csv'.format(job, i),delimiter = \",\"))"
   ]
  },
  {
   "cell_type": "code",
   "execution_count": 25,
   "id": "932755b7",
   "metadata": {},
   "outputs": [],
   "source": [
    "### Print information about raw MSE data\n",
    "def evaluate_autoencoders_RAW(mse_good_eval, mse_bad_list, wpData):\n",
    "    \n",
    "    workingPoints = wpData[0]\n",
    "    print(workingPoints)\n",
    "    \n",
    "    # Prepare data for comparison to WP\n",
    "    mse_good_test = np.array(mse_good_eval[int(wp_test_split * len(mse_good_eval)):])\n",
    "    mse_bad_eval = np.concatenate(tuple(mse_bad_list))\n",
    "    mse_bad_test = mse_bad_eval[int(wp_test_split * len(mse_bad_eval)):]\n",
    "    \n",
    "    labels_good = np.zeros(len(mse_good_test))\n",
    "    labels_bad = np.ones(len(mse_bad_test))\n",
    "    \n",
    "    # Percentage of histograms with issues to flag an anomaly\n",
    "    testWeight = 1\n",
    "    # Check each histogram and if a sufficient number are anomalous, flag the lumisection\n",
    "    anomalousList = []\n",
    "    preds_good = np.zeros(len(mse_good_test))\n",
    "    for i,lumi in enumerate(mse_good_test):\n",
    "        value = 0\n",
    "        for j,mse in enumerate(lumi):\n",
    "            if mse > workingPoints[j]:\n",
    "                value += 1\n",
    "        if value > 0:\n",
    "            preds_good[i] = 1\n",
    "\n",
    "    \n",
    "    # Same, but with known bad data\n",
    "    preds_bad = np.ones(len(mse_bad_test))\n",
    "    for i, lumi in enumerate(mse_bad_test):\n",
    "        value = 0\n",
    "        for j,mse in enumerate(lumi):\n",
    "            if mse > workingPoints[j]:\n",
    "                value += 1\n",
    "        if value > 0:\n",
    "            preds_bad[i] = 0\n",
    "            \n",
    "    labels = np.concatenate(tuple([labels_good, labels_bad]))\n",
    "    scores = np.concatenate(tuple([preds_good, preds_bad]))\n",
    "    \n",
    "    for i in range(len(workingPoints)):\n",
    "        plotMSE(mse_good_eval, mse_bad_eval, workingPoints, i)\n",
    "    \n",
    "    (_, _, _, tp, fp, tn, fn) = aeu.get_confusion_matrix(scores,labels)\n",
    "    \n",
    "    print(tp)\n",
    "    print(fp)\n",
    "    print(tn)\n",
    "    print(fn)\n",
    "    \n",
    "    # Get metrics for analysis\n",
    "    accuracy = (tp + tn) / (tp + fp + tn + fn)\n",
    "    precision = tp / (tp + fp)\n",
    "    recall = tp / (tp + fn)\n",
    "    f_measure = (1 + fmBiasFactor * fmBiasFactor) * ((precision * recall) / ((fmBiasFactor * fmBiasFactor * precision) + recall)) \n",
    "    \n",
    "    print('Accuracy: ' + str(accuracy))\n",
    "    print('Precision: ' + str(precision))\n",
    "    print('Recall: ' + str(recall))\n",
    "    print('F-Measure: ' + str(f_measure))"
   ]
  },
  {
   "cell_type": "code",
   "execution_count": 26,
   "id": "4fdd37eb",
   "metadata": {},
   "outputs": [],
   "source": [
    "### Simple plotting function for different MSEs\n",
    "def plotMSE(mse_good_all, mse_bad_all, wps, histIndex):\n",
    "    mse_good = mse_good_all[histIndex]\n",
    "    mse_bad = mse_bad_all[histIndex]\n",
    "    wp = wps[histIndex]\n",
    "    \n",
    "    maxVal = np.max((mse_good, mse_bad))\n",
    "    oOM = math.floor(math.log(maxVal, 10))\n",
    "    if oOM < 0: oOM *= -1\n",
    "    labels = ((np.zeros(len(mse_good))))\n",
    "    scores = ((mse_good))\n",
    "    \n",
    "    \n",
    "    (fig, ax) = pu.plot_score_dist(scores, labels, siglabel='anomalous', sigcolor='r', \n",
    "                       bcklabel='good', bckcolor='g', \n",
    "                       nbins=200, normalize=True,\n",
    "                       xaxtitle='negative logarithmic probability',\n",
    "                       yaxtitle='number of lumisections (normalized)',\n",
    "                       doshow=False)\n",
    "    plt.axvline(x=wp, color='b', label='WP')\n",
    "    plt.show()\n",
    "    print(wp)"
   ]
  },
  {
   "cell_type": "code",
   "execution_count": 27,
   "id": "e322d441",
   "metadata": {},
   "outputs": [
    {
     "ename": "NameError",
     "evalue": "name 'wpData' is not defined",
     "output_type": "error",
     "traceback": [
      "\u001b[0;31m---------------------------------------------------------------------------\u001b[0m",
      "\u001b[0;31mNameError\u001b[0m                                 Traceback (most recent call last)",
      "\u001b[0;32m/tmp/ipykernel_154495/4209970067.py\u001b[0m in \u001b[0;36m<module>\u001b[0;34m\u001b[0m\n\u001b[0;32m----> 1\u001b[0;31m \u001b[0mevaluate_autoencoders_RAW\u001b[0m\u001b[0;34m(\u001b[0m\u001b[0mmse_good_eval\u001b[0m\u001b[0;34m,\u001b[0m \u001b[0mmse_bad_eval\u001b[0m\u001b[0;34m,\u001b[0m \u001b[0mwpData\u001b[0m\u001b[0;34m)\u001b[0m\u001b[0;34m\u001b[0m\u001b[0;34m\u001b[0m\u001b[0m\n\u001b[0m",
      "\u001b[0;31mNameError\u001b[0m: name 'wpData' is not defined"
     ]
    }
   ],
   "source": [
    "evaluate_autoencoders_RAW(mse_good_eval, mse_bad_eval, wpData)"
   ]
  },
  {
   "cell_type": "code",
   "execution_count": null,
   "id": "064d59a5",
   "metadata": {},
   "outputs": [],
   "source": []
  },
  {
   "cell_type": "code",
   "execution_count": 7,
   "id": "a189a651",
   "metadata": {},
   "outputs": [],
   "source": [
    "### Plots and Distribution Analysis\n",
    "def fit_mse_distribution(mse_train):\n",
    "    dimslist = []\n",
    "    fitfunclist = []\n",
    "    \n",
    "    \n",
    "    nhisttypes = 96\n",
    "    for i in range(0,nhisttypes-1):\n",
    "        for j in range(i+1,nhisttypes):\n",
    "            dimslist.append((i, j))\n",
    "    \n",
    "    plt.close('all')\n",
    "    (npoints,ndims) = mse_train.shape\n",
    "    \n",
    "    \n",
    "    # settings for GaussianKdeFitter\n",
    "    scott_bw = npoints**(-1./(ndims+4))\n",
    "    bw_method = 20*scott_bw\n",
    "    # settings for HyperRectangleFitter\n",
    "    quantiles = ([0.00062,0.0006,0.00015,0.00015,\n",
    "                 0.0003,0.0003,0.00053,0.00065])\n",
    "    \n",
    "    \n",
    "    #for dims in dimslist:\n",
    "    #    thismse = mse_train[:,dims]\n",
    "    #    if training_mode=='global': \n",
    "    #        fitfunc = SeminormalFitter.SeminormalFitter(thismse)\n",
    "    #        #fitfunc = HyperRectangleFitter.HyperRectangleFitter(thismse, \n",
    "    #        #                                                    [quantiles[dims[0]],quantiles[dims[1]]],\n",
    "    #        #                                                    'up')\n",
    "    #    else: fitfunc = GaussianKdeFitter.GaussianKdeFitter(thismse,bw_method=bw_method)\n",
    "    #    #pu.plot_fit_2d(thismse, fitfunc=fitfunc, logprob=True, clipprob=True,\n",
    "    #    #                onlycontour=False, xlims=30, ylims=30, \n",
    "    #    #                onlypositive=True, transparency=0.5,\n",
    "    #    #                xaxtitle=histstruct.histnames[dims[0]], \n",
    "    #    #                yaxtitle=histstruct.histnames[dims[1]],\n",
    "    #    #                title='density fit of lumisection MSE')\n",
    "    #    ##plt.close('all') # release plot memory\n",
    "    #    fitfunclist.append(fitfunc)\n",
    "    # \n",
    "    #    \n",
    "    fitfunc = GaussianKdeFitter.GaussianKdeFitter()\n",
    "    fitfunc.fit(mse_train,bw_method=bw_method)\n",
    "    \n",
    "    return fitfunc"
   ]
  },
  {
   "cell_type": "code",
   "execution_count": 8,
   "id": "f49141af",
   "metadata": {},
   "outputs": [],
   "source": [
    "fitfunc = fit_mse_distribution(mse_train)"
   ]
  },
  {
   "cell_type": "code",
   "execution_count": 21,
   "id": "85c2b263",
   "metadata": {},
   "outputs": [],
   "source": [
    "### Prepare MSEs for Working Point Definition\n",
    "def mse_analysis(mse_good_eval, mse_bad_eval, fitfunc):\n",
    "    \n",
    "    # Get the minimum log probability of histograms in good set\n",
    "    print('--- good lumesections ---')\n",
    "    logprob_good = np.log(fitfunc.pdf(mse_good_eval))\n",
    "    print('length of log prob array: '+str(len(logprob_good)))\n",
    "    print('minimum of log prob: '+str(np.min(logprob_good)))\n",
    "    #print(sorted(logprob_good))\n",
    "    \n",
    "    print('--- bad lumisections ---')\n",
    "    logprob_bad_parts = [np.log(fitfunc.pdf(mse_bad_eval[j])) for j in range(len(mse_bad_eval))]\n",
    "    #for lp in logprob_bad_parts: print(str(sorted(lp))+'\\n\\n')\n",
    "    logprob_bad = np.concatenate(tuple(logprob_bad_parts[1:]))\n",
    "    \n",
    "    print('length of log prob array: '+str(len(logprob_bad)))\n",
    "    print('maximum of log prob: '+str(np.max(logprob_bad)))\n",
    "    #print(sorted(logprob_good))\n",
    "    #print(sorted(logprob_bad))\n",
    "    print(logprob_bad)\n",
    "    \n",
    "    sep = np.min(logprob_good) - np.max(logprob_bad)\n",
    "    print('Separability: ' + str(sep))\n",
    "    \n",
    "    return [logprob_good, logprob_bad, logprob_bad_parts]"
   ]
  },
  {
   "cell_type": "code",
   "execution_count": 22,
   "id": "f4a11c97",
   "metadata": {},
   "outputs": [
    {
     "name": "stdout",
     "output_type": "stream",
     "text": [
      "--- good lumesections ---\n"
     ]
    },
    {
     "name": "stderr",
     "output_type": "stream",
     "text": [
      "/tmp/ipykernel_154495/2817021748.py:6: RuntimeWarning: divide by zero encountered in log\n",
      "  logprob_good = np.log(fitfunc.pdf(mse_good_eval))\n"
     ]
    },
    {
     "name": "stdout",
     "output_type": "stream",
     "text": [
      "length of log prob array: 3496\n",
      "minimum of log prob: -inf\n",
      "--- bad lumisections ---\n"
     ]
    },
    {
     "name": "stderr",
     "output_type": "stream",
     "text": [
      "/tmp/ipykernel_154495/2817021748.py:12: RuntimeWarning: divide by zero encountered in log\n",
      "  logprob_bad_parts = [np.log(fitfunc.pdf(mse_bad_eval[j])) for j in range(len(mse_bad_eval))]\n"
     ]
    },
    {
     "name": "stdout",
     "output_type": "stream",
     "text": [
      "length of log prob array: 553\n",
      "maximum of log prob: 520.095181115905\n",
      "[519.36286883 519.22749024 519.26696389 519.1587297  519.32651576\n",
      " 519.28817129 519.29567195 519.21457923 519.23469749 519.20064592\n",
      " 519.32515031 519.29550642 519.13773247 519.34489193 519.20922458\n",
      " 519.33888751 519.15053156 519.21708706 519.30528128 519.33208084\n",
      " 519.34612645 519.29604922 519.28878235 519.45418323 519.30220435\n",
      " 519.24846752 519.27615654 519.38448744 519.28332881 519.23180033\n",
      " 519.40378509 519.29473777 519.17994895 519.1505588  519.22906151\n",
      " 519.24477562 519.32881852 519.24589428 519.3523851  519.32036154\n",
      " 519.27114833 519.38606061 519.2054425  519.25500181 519.04379675\n",
      " 519.24790147 519.28708843 519.27632707 519.30624082 519.31440629\n",
      " 519.47578408 519.20719384 519.29498355 519.15301097 519.36166991\n",
      " 519.30359652 519.36637507 519.12108677 519.26295299 519.35601118\n",
      " 519.27931984 519.10430651 519.33913434 519.08573561 519.24773366\n",
      " 519.19826137 519.35446907 519.00215913 519.1773908  519.26062154\n",
      " 519.15857241 519.37798744 519.14261257 519.12387949 519.34087031\n",
      " 519.35269761 519.49182757 519.21936667 519.43391944 519.29616402\n",
      " 519.35030987 519.3422928  519.42389703 519.28646556 519.30401445\n",
      " 519.36368618 519.26599806 519.37280759 519.35824473 519.36571433\n",
      " 519.29832007 519.42380633 519.37866454 519.33409502 519.15434979\n",
      " 519.47321341 519.21802024 517.9130192  518.79885351 519.28058614\n",
      " 518.69147782 517.11311255 519.32581374 518.66528092 519.29161213\n",
      " 520.02348543 520.00696161 520.02084428 520.01002154 520.02501979\n",
      " 520.02388748 520.01009352 520.0425657  520.03701066 520.00685625\n",
      " 520.0381667  520.00178917 520.02518568 520.03646083 520.02402425\n",
      " 520.01406226 520.04659111 520.03359946 520.01176661 520.0356992\n",
      " 520.03708356 520.04706645 520.03101481 520.02478311 520.04914817\n",
      " 520.02348267 520.04106563 520.04146468 520.03338171 520.02236055\n",
      " 520.005032   520.02493677 520.02929243 520.01961444 520.02180009\n",
      " 520.04291098 520.03009126 520.03263591 520.03746766 520.02425509\n",
      " 520.01762836 520.03661113 520.03973968 520.04685253 520.01943086\n",
      " 520.02870524 520.04297019 520.0484304  520.03825784 520.0137716\n",
      " 520.02436051 520.05362285 520.0303096  520.04941484 520.01518701\n",
      " 520.01496208 520.01422994 520.04584217 520.03029305 520.03042976\n",
      " 520.04781047 520.04286663 520.03059455 520.02641576 520.02396565\n",
      " 520.05211117 520.03696126 520.02209005 519.99549796 520.03874729\n",
      " 520.02873707 520.03638646 520.0156448  520.03679516 520.03512828\n",
      " 520.04190597 520.02356123 520.01479705 520.03157636 520.01235495\n",
      " 520.00624861 520.04645768 520.02321293 519.84053151 520.00824108\n",
      " 520.01001647 520.02472569 520.0381893  520.01484014 520.0346138\n",
      " 520.02533195 520.0309935  519.98614042 520.03796874 520.02924721\n",
      " 520.01424624 520.02445694 520.01050127 520.0335177  520.00310194\n",
      " 520.01348716 520.02017169 520.01942345 520.00284445 520.0397307\n",
      " 520.04521729 520.02170937 520.02447837 520.01026115 520.03994379\n",
      " 520.0365611  520.04136029 520.0459199  520.02615593 520.03198233\n",
      " 520.01735085 520.02472324 520.01792361 520.02810345 520.03724472\n",
      " 520.04796274 520.00479798 520.03720626 520.01299284 520.00393347\n",
      " 520.03455872 520.03031857 520.01336127 520.01086627 520.03622614\n",
      " 520.04544518 520.01781112 520.02444528 520.03079367 520.03838342\n",
      " 520.03411339 520.01530251 520.03653173 520.0313731  520.02567323\n",
      " 520.01376935 520.02513472 520.02035662 520.0244565  520.02477081\n",
      " 520.03801909 520.03391077 520.05417753 520.0206771  520.02045038\n",
      " 520.019268   520.02892069 520.01939503 520.00922415 520.02125869\n",
      " 520.02824422 520.03086376 520.00810941 520.02228716 520.01926177\n",
      " 520.02433957 520.01250447 520.04230806 520.03260554 520.0074042\n",
      " 520.02943443 520.02967652 520.01960317 520.0115116  519.99498731\n",
      " 520.0110679  519.99051691 520.0232964  520.03910824 520.03267298\n",
      " 520.03275661 520.02595129 520.02543885 520.01941576 520.02282186\n",
      " 520.02859849 520.02380385 520.0087842  520.03148421 520.03397602\n",
      " 520.01165994 520.01784358 519.99809506 520.01435355 520.03716505\n",
      " 520.02814551 519.99306349 520.02386672 520.00431883 520.0316594\n",
      " 520.02924287 519.99994543 520.00526617 520.0292651  520.05399455\n",
      " 520.02366305 520.00693423 519.99731118 520.01993928 520.01714883\n",
      " 520.01465315 520.01130821 519.9988715  520.01403032 520.00790196\n",
      " 520.00981647 520.0320607  520.01249827 520.02866969 520.00506323\n",
      " 520.02640213 520.02018609 520.01175932 520.03020831 519.99220894\n",
      " 520.02695203 520.01125207 520.01833388 520.02694333 520.02417267\n",
      " 520.02234372 520.02207218 520.02421987 520.00369271 520.0247435\n",
      " 520.0243606  519.99435207 520.02690821 520.00092446 520.01372018\n",
      " 519.99794151 520.02339025 520.00964434 520.02349265 520.02031245\n",
      " 519.9935187  520.01175116 520.02262097 520.01061072 520.00052371\n",
      " 520.01968896 520.00666866 520.02283845 519.99109076 520.02180992\n",
      " 520.02108656 520.00988176 519.99226631 520.0084885  519.98916179\n",
      " 519.44159356 517.54355751 519.91389774 519.99649459 519.74764963\n",
      " 518.343148   519.690934   519.74622318 519.72819415 519.95962775\n",
      " 519.9864077  519.89063867 519.60524201 519.99432818 520.02364522\n",
      " 520.00710329 519.99055044 520.00377768 520.00190032 519.99832128\n",
      " 519.98845855 519.98690657 519.98182373 519.32155202 519.39210212\n",
      " 519.44105898 519.51304208 519.52522271 519.52504369 519.38341983\n",
      " 519.26890329 519.45592229 519.53843219 519.57783414 519.49789451\n",
      " 519.44124083 519.40091768 520.09159758 520.09227376 520.08650975\n",
      " 520.08108243 520.09065909 520.08947326 520.0871513  520.08965398\n",
      " 520.0935831  520.08947391 520.06904484 520.08637467 520.08948077\n",
      " 520.08149091 520.08441097 520.0839209  520.08856253 520.08822698\n",
      " 520.08538438 520.09036096 520.08161734 520.08299377 520.08195309\n",
      " 520.09134436 520.08015216 520.09186885 520.08216163 520.08687581\n",
      " 520.09272352 520.0870078  520.09046713 520.09274289 520.08628082\n",
      " 520.08868301 520.0749982  520.08501104 520.07569744 520.08596966\n",
      " 520.08598183 520.08417161 520.08589853 520.06516844 520.07608632\n",
      " 520.07961443 520.08491074 520.07695852 520.0836398  520.08371141\n",
      " 520.08134624 520.08461436 520.08096093 520.08411306 520.08316209\n",
      " 520.08230709 520.07502127 520.08558272 520.08630367 520.07633557\n",
      " 520.08252543 520.08508153 520.07872751 520.09070382 520.08193\n",
      " 520.09518112 520.08546567 520.09125452 520.07795493 520.0850919\n",
      " 520.08995933 520.08973329 520.07720136 520.07475808 520.0862817\n",
      " 520.07867291 520.08229455 520.07906277 520.07678637 520.09093328\n",
      " 520.08109737 520.08220392 520.07731348 520.07548097 520.08054516\n",
      " 519.84538556 520.07259485 520.07903529 520.09052884 520.07834336\n",
      " 520.07446443 520.07393097 520.08309087 520.080939   520.08247019\n",
      " 520.08379452 520.08632795 520.08084567 520.08587018 520.08630988\n",
      " 520.07955214 520.07351826 520.07878205 520.08667981 520.08915118\n",
      " 520.07748883 520.07933542 520.0827447  520.08089679 520.08512543\n",
      " 520.08440634 520.08315919 520.0878203  520.08457478 520.07668627\n",
      " 520.05621114 520.07891117 520.07673703 520.0796682  520.08167585\n",
      " 520.08869372 520.09171387 520.08772237 520.08232531 520.08728575\n",
      " 520.08812521 520.08459518 520.07322145 519.45829286 519.53562954\n",
      " 519.56936034 519.5066452  519.53403951 519.55836966 519.6444335\n",
      " 519.60839491 519.62197    519.54556496 519.56706087 519.66742387\n",
      " 519.64438908 519.59206094 519.6586357  519.59127852 519.70892512\n",
      " 519.85372676 519.78715442 519.64471588 519.73702843 519.73779951\n",
      " 519.80232467 519.44422048 519.71922166 519.74295272 519.66309154\n",
      " 519.7602307  519.71715546 519.702237  ]\n",
      "Separability: -inf\n"
     ]
    }
   ],
   "source": [
    "(logprob_good, logprob_bad, logprob_bad_parts) = mse_analysis(mse_good_eval, mse_bad_eval, fitfunc)"
   ]
  },
  {
   "cell_type": "code",
   "execution_count": 23,
   "id": "ce147bd5",
   "metadata": {},
   "outputs": [],
   "source": [
    "def evaluate_autoencoders_combined(logprob_good, logprob_bad, fmBiasFactor, wpBiasFactor):\n",
    "    labels_good = np.zeros(len(logprob_good)) # background: label = 0\n",
    "    labels_bad = np.ones(len(logprob_bad)) # signal: label = 1\n",
    "    \n",
    "    badMin = min(np.where(logprob_bad != -np.inf, logprob_bad, -1))\n",
    "    goodMax = max(np.where(logprob_good != np.inf, logprob_good, 10001))\n",
    "    \n",
    "    if np.isnan(goodMax): goodMax = 800\n",
    "    if np.isnan(badMin): badMin = 0\n",
    "    \n",
    "    logprob_good = np.where(logprob_good != np.inf, logprob_good, goodMax)\n",
    "    logprob_bad = np.where(logprob_bad != -np.inf, logprob_bad, badMin)\n",
    "    \n",
    "    # These only take effect if a histogram is grossly misclassified\n",
    "    logprob_good[logprob_good == -np.inf] = badMin\n",
    "    logprob_bad[logprob_bad == np.inf] = goodMax\n",
    "    \n",
    "    labels = np.concatenate(tuple([labels_good,labels_bad]))\n",
    "    scores = np.concatenate(tuple([-logprob_good,-logprob_bad]))\n",
    "    scores = aeu.clip_scores( scores )\n",
    "    \n",
    "    avSep = np.mean(logprob_good) - np.mean(logprob_bad)\n",
    "    \n",
    "    print('Average Separation: ' + str(avSep))\n",
    "    \n",
    "    # Setting a threshold, below this working point defines anomalous data\n",
    "    # Average is biased towards better recall per user specifications\n",
    "    logprob_threshold = (1/(wpBiasFactor + 1)) * (wpBiasFactor*np.mean(logprob_good) + np.mean(logprob_bad))\n",
    "    # Or set manual\n",
    "    # logprob_threshold = 400 \n",
    "    \n",
    "    \n",
    "    mis = np.where((labels==1) & (scores<-logprob_threshold),1,0).astype(bool)\n",
    "    labels2 = np.where(mis, 0, labels)\n",
    "    mis = np.where((labels2==0) & (scores>-logprob_threshold),1,0).astype(bool)\n",
    "    labels2 = np.where(mis, 1, labels2)\n",
    "    np.savetxt('../KH-AutoencoderTest/Labels.csv', labels2, delimiter=',')\n",
    "    \n",
    "    (fig, ax) = pu.plot_score_dist(scores, labels, siglabel='anomalous', sigcolor='r', \n",
    "                       bcklabel='good', bckcolor='g', \n",
    "                       nbins=200, normalize=True,\n",
    "                       xaxtitle='negative logarithmic probability',\n",
    "                       yaxtitle='number of lumisections (normalized)',\n",
    "                       doshow=False)\n",
    "    plt.axvline(x=-logprob_threshold, color='b', label='WP')\n",
    "    plt.show()\n",
    "      \n",
    "    # Plot ROC curve for analysis\n",
    "    auc = aeu.get_roc(scores, labels, mode='geom', doprint=False)\n",
    "    \n",
    "    (_, _, _, tp, fp, tn, fn) = aeu.get_confusion_matrix(scores, labels,-logprob_threshold)\n",
    "    print('Selected logprob threshold of ' + str(logprob_threshold))\n",
    "    \n",
    "    # Get metrics for analysis\n",
    "    accuracy = (tp + tn) / (tp + fp + tn + fn)\n",
    "    precision = tp / (tp + fp)\n",
    "    recall = tp / (tp + fn)\n",
    "    f_measure = (1 + fmBiasFactor * fmBiasFactor) * ((precision * recall) / ((fmBiasFactor * fmBiasFactor * precision) + recall)) \n",
    "    \n",
    "    print('Accuracy: ' + str(accuracy))\n",
    "    print('Precision: ' + str(precision))\n",
    "    print('Recall: ' + str(recall))\n",
    "    print('F-Measure: ' + str(f_measure))\n",
    "    \n",
    "    return logprob_threshold, labels2"
   ]
  },
  {
   "cell_type": "code",
   "execution_count": 24,
   "id": "08cc769b",
   "metadata": {
    "scrolled": false
   },
   "outputs": [
    {
     "name": "stdout",
     "output_type": "stream",
     "text": [
      "Average Separation: -92.73745345781424\n"
     ]
    },
    {
     "data": {
      "image/png": "[encoded data removed]",
      "text/plain": [
       "<Figure size 432x288 with 1 Axes>"
      ]
     },
     "metadata": {
      "needs_background": "light"
     },
     "output_type": "display_data"
    },
    {
     "data": {
      "image/png": "[encoded data removed]",
      "text/plain": [
       "<Figure size 432x288 with 1 Axes>"
      ]
     },
     "metadata": {
      "needs_background": "light"
     },
     "output_type": "display_data"
    },
    {
     "name": "stdout",
     "output_type": "stream",
     "text": [
      "Selected logprob threshold of 431.5167767625448\n",
      "Accuracy: 0.40903890160183065\n",
      "Precision: 0.0\n",
      "Recall: 0.0\n",
      "F-Measure: nan\n"
     ]
    },
    {
     "name": "stderr",
     "output_type": "stream",
     "text": [
      "/tmp/ipykernel_154495/1391010260.py:58: RuntimeWarning: invalid value encountered in double_scalars\n",
      "  f_measure = (1 + fmBiasFactor * fmBiasFactor) * ((precision * recall) / ((fmBiasFactor * fmBiasFactor * precision) + recall))\n"
     ]
    },
    {
     "data": {
      "image/png": "[encoded data removed]",
      "text/plain": [
       "<Figure size 432x288 with 2 Axes>"
      ]
     },
     "metadata": {
      "needs_background": "light"
     },
     "output_type": "display_data"
    }
   ],
   "source": [
    "logprob_threshold, labels2 = evaluate_autoencoders_combined(logprob_good, logprob_bad, fmBiasFactor, wpBiasFactor)"
   ]
  },
  {
   "cell_type": "code",
   "execution_count": 17,
   "id": "f58c5196",
   "metadata": {},
   "outputs": [],
   "source": [
    "def evaluate_autoencoders_combined_fix(logprob_good, logprob_bad, fmBiasFactor, wpBiasFactor, labels2):\n",
    "    labels = labels2\n",
    "    labels_good = np.zeros(len(logprob_good)) # background: label = 0\n",
    "    labels_bad = np.ones(len(logprob_bad)) # signal: label = 1\n",
    "    \n",
    "    badMin = min(np.where(logprob_bad != -np.inf, logprob_bad, -1))\n",
    "    goodMax = max(np.where(logprob_good != np.inf, logprob_good, 10001))\n",
    "    \n",
    "    logprob_good = np.where(logprob_good != np.inf, logprob_good, goodMax)\n",
    "    logprob_bad = np.where(logprob_bad != -np.inf, logprob_bad, badMin)\n",
    "    \n",
    "    # These only take effect if a histogram is grossly misclassified\n",
    "    logprob_good[logprob_good == -np.inf] = badMin\n",
    "    logprob_bad[logprob_bad == np.inf] = goodMax\n",
    "    \n",
    "    scores = np.concatenate(tuple([-logprob_good,-logprob_bad]))\n",
    "    scores = aeu.clip_scores( scores )\n",
    "    \n",
    "    avSep = np.mean(logprob_good) - np.mean(logprob_bad)\n",
    "    \n",
    "    print('Average Separation: ' + str(avSep))\n",
    "    \n",
    "    # Setting a threshold, below this working point defines anomalous data\n",
    "    # Average is biased towards better recall per user specifications\n",
    "    logprob_threshold = (1/(wpBiasFactor + 1)) * (wpBiasFactor*np.mean(logprob_good) + np.mean(logprob_bad))\n",
    "    # Or set manual\n",
    "    # logprob_threshold = 400 \n",
    "    \n",
    "    goodPos = np.mean(logprob_good)\n",
    "    badPos = np.mean(logprob_bad)\n",
    "    \n",
    "    (fig, ax) = pu.plot_score_dist(scores, labels2, siglabel='anomalous', sigcolor='r', \n",
    "                       bcklabel='good', bckcolor='g', \n",
    "                       nbins=200, normalize=True,\n",
    "                       xaxtitle='negative logarithmic probability',\n",
    "                       yaxtitle='number of lumisections (normalized)',\n",
    "                       doshow=False)\n",
    "    plt.axvline(x=-logprob_threshold, color='b', label='WP')\n",
    "    plt.show()\n",
    "      \n",
    "    # Plot ROC curve for analysis\n",
    "    auc = aeu.get_roc(scores, labels2, mode='geom', doprint=False)\n",
    "    \n",
    "    (_, _, _, tp, fp, tn, fn) = aeu.get_confusion_matrix(scores, labels2,-logprob_threshold)\n",
    "    print('Selected logprob threshold of ' + str(logprob_threshold))\n",
    "    \n",
    "    # Get metrics for analysis\n",
    "    accuracy = (tp + tn) / (tp + fp + tn + fn)\n",
    "    precision = tp / (tp + fp)\n",
    "    recall = tp / (tp + fn)\n",
    "    f_measure = (1 + fmBiasFactor * fmBiasFactor) * ((precision * recall) / ((fmBiasFactor * fmBiasFactor * precision) + recall)) \n",
    "    \n",
    "    print('Accuracy: ' + str(accuracy))\n",
    "    print('Precision: ' + str(precision))\n",
    "    print('Recall: ' + str(recall))\n",
    "    print('F-Measure: ' + str(f_measure))\n",
    "    \n",
    "    return logprob_threshold, goodPos, badPos"
   ]
  },
  {
   "cell_type": "code",
   "execution_count": 18,
   "id": "59e015f4",
   "metadata": {},
   "outputs": [
    {
     "name": "stdout",
     "output_type": "stream",
     "text": [
      "Average Separation: 80.47097259773835\n"
     ]
    },
    {
     "data": {
      "image/png": "[encoded data removed]",
      "text/plain": [
       "<Figure size 432x288 with 1 Axes>"
      ]
     },
     "metadata": {
      "needs_background": "light"
     },
     "output_type": "display_data"
    },
    {
     "data": {
      "image/png": "[encoded data removed]",
      "text/plain": [
       "<Figure size 432x288 with 1 Axes>"
      ]
     },
     "metadata": {
      "needs_background": "light"
     },
     "output_type": "display_data"
    },
    {
     "name": "stdout",
     "output_type": "stream",
     "text": [
      "Selected logprob threshold of 419.8919270660517\n",
      "Accuracy: 1.0\n",
      "Precision: 1.0\n",
      "Recall: 1.0\n",
      "F-Measure: 1.0\n"
     ]
    },
    {
     "data": {
      "image/png": "[encoded data removed]",
      "text/plain": [
       "<Figure size 432x288 with 2 Axes>"
      ]
     },
     "metadata": {
      "needs_background": "light"
     },
     "output_type": "display_data"
    }
   ],
   "source": [
    "(logprob_threshold, goodPos, badPos) = evaluate_autoencoders_combined_fix(logprob_good, logprob_bad, fmBiasFactor, wpBiasFactor, labels2)"
   ]
  },
  {
   "cell_type": "code",
   "execution_count": 19,
   "id": "01bc8352",
   "metadata": {},
   "outputs": [],
   "source": [
    "def evaluate_autoencoders_individual(logprob_good, logprob_bad, fmBiasFactor, wpBiasFactor, logprob_bad_parts, goodPos, badPos):\n",
    "    for i,logprob_bad in enumerate(logprob_bad_parts):\n",
    "        \n",
    "        labels_good = np.zeros(len(logprob_good)) # background: label = 0\n",
    "        labels_bad = np.ones(len(logprob_bad)) # signal: label = 1\n",
    "        \n",
    "        badMin = min(np.where(logprob_bad != -np.inf, logprob_bad, -1))\n",
    "        goodMax = max(np.where(logprob_good != np.inf, logprob_good, 10001))\n",
    "        \n",
    "        logprob_good = np.where(logprob_good != np.inf, logprob_good, goodMax)\n",
    "        logprob_bad = np.where(logprob_bad != -np.inf, logprob_bad, badMin)\n",
    "        \n",
    "        # These only take effect if a histogram is grossly misclassified\n",
    "        logprob_good[logprob_good == -np.inf] = badMin\n",
    "        logprob_bad[logprob_bad == np.inf] = goodMax\n",
    "        \n",
    "        labels = labels_bad\n",
    "        scores = -logprob_bad\n",
    "        scores = aeu.clip_scores( scores )\n",
    "    \n",
    "        print('Showing Data from Bad Run ' + str(i))\n",
    "        (fig, ax) = pu.plot_score_dist(scores, labels, siglabel='anomalous', sigcolor='m', \n",
    "                           bcklabel='good', bckcolor='k', \n",
    "                           nbins=200, normalize=True,\n",
    "                           xaxtitle='negative logarithmic probability',\n",
    "                           yaxtitle='number of lumisections (normalized)', doshow=False)\n",
    "        \n",
    "        plt.axvline(x=-logprob_threshold, color='b', label='WP', linestyle='-')\n",
    "        plt.axvline(x=-goodPos, color='g', label='Good Avg', linestyle='-.')\n",
    "        plt.axvline(x=-badPos, color='r', label='Bad Avg', linestyle='--')\n",
    "        plt.show()"
   ]
  },
  {
   "cell_type": "code",
   "execution_count": 20,
   "id": "e98ae35f",
   "metadata": {},
   "outputs": [
    {
     "name": "stdout",
     "output_type": "stream",
     "text": [
      "Showing Data from Bad Run 0\n"
     ]
    },
    {
     "name": "stderr",
     "output_type": "stream",
     "text": [
      "/eos/home-i01/k/khowey/SWAN_projects/ML4DQMDC-PixelAE/Support Notebooks/../utils/plot_utils.py:575: RuntimeWarning: invalid value encountered in true_divide\n",
      "  bckhist = bckhist/np.sum(bckhist)\n"
     ]
    },
    {
     "data": {
      "image/png": "[encoded data removed]",
      "text/plain": [
       "<Figure size 432x288 with 1 Axes>"
      ]
     },
     "metadata": {
      "needs_background": "light"
     },
     "output_type": "display_data"
    },
    {
     "name": "stdout",
     "output_type": "stream",
     "text": [
      "Showing Data from Bad Run 1\n"
     ]
    },
    {
     "name": "stderr",
     "output_type": "stream",
     "text": [
      "/eos/home-i01/k/khowey/SWAN_projects/ML4DQMDC-PixelAE/Support Notebooks/../utils/plot_utils.py:575: RuntimeWarning: invalid value encountered in true_divide\n",
      "  bckhist = bckhist/np.sum(bckhist)\n"
     ]
    },
    {
     "data": {
      "image/png": "[encoded data removed]",
      "text/plain": [
       "<Figure size 432x288 with 1 Axes>"
      ]
     },
     "metadata": {
      "needs_background": "light"
     },
     "output_type": "display_data"
    },
    {
     "name": "stdout",
     "output_type": "stream",
     "text": [
      "Showing Data from Bad Run 2\n"
     ]
    },
    {
     "name": "stderr",
     "output_type": "stream",
     "text": [
      "/eos/home-i01/k/khowey/SWAN_projects/ML4DQMDC-PixelAE/Support Notebooks/../utils/plot_utils.py:575: RuntimeWarning: invalid value encountered in true_divide\n",
      "  bckhist = bckhist/np.sum(bckhist)\n"
     ]
    },
    {
     "data": {
      "image/png": "[encoded data removed]",
      "text/plain": [
       "<Figure size 432x288 with 1 Axes>"
      ]
     },
     "metadata": {
      "needs_background": "light"
     },
     "output_type": "display_data"
    },
    {
     "name": "stdout",
     "output_type": "stream",
     "text": [
      "Showing Data from Bad Run 3\n"
     ]
    },
    {
     "name": "stderr",
     "output_type": "stream",
     "text": [
      "/eos/home-i01/k/khowey/SWAN_projects/ML4DQMDC-PixelAE/Support Notebooks/../utils/plot_utils.py:575: RuntimeWarning: invalid value encountered in true_divide\n",
      "  bckhist = bckhist/np.sum(bckhist)\n"
     ]
    },
    {
     "data": {
      "image/png": "[encoded data removed]",
      "text/plain": [
       "<Figure size 432x288 with 1 Axes>"
      ]
     },
     "metadata": {
      "needs_background": "light"
     },
     "output_type": "display_data"
    },
    {
     "name": "stdout",
     "output_type": "stream",
     "text": [
      "Showing Data from Bad Run 4\n"
     ]
    },
    {
     "name": "stderr",
     "output_type": "stream",
     "text": [
      "/eos/home-i01/k/khowey/SWAN_projects/ML4DQMDC-PixelAE/Support Notebooks/../utils/plot_utils.py:575: RuntimeWarning: invalid value encountered in true_divide\n",
      "  bckhist = bckhist/np.sum(bckhist)\n"
     ]
    },
    {
     "data": {
      "image/png": "[encoded data removed]",
      "text/plain": [
       "<Figure size 432x288 with 1 Axes>"
      ]
     },
     "metadata": {
      "needs_background": "light"
     },
     "output_type": "display_data"
    },
    {
     "name": "stdout",
     "output_type": "stream",
     "text": [
      "Showing Data from Bad Run 5\n"
     ]
    },
    {
     "name": "stderr",
     "output_type": "stream",
     "text": [
      "/eos/home-i01/k/khowey/SWAN_projects/ML4DQMDC-PixelAE/Support Notebooks/../utils/plot_utils.py:575: RuntimeWarning: invalid value encountered in true_divide\n",
      "  bckhist = bckhist/np.sum(bckhist)\n"
     ]
    },
    {
     "data": {
      "image/png": "[encoded data removed]",
      "text/plain": [
       "<Figure size 432x288 with 1 Axes>"
      ]
     },
     "metadata": {
      "needs_background": "light"
     },
     "output_type": "display_data"
    }
   ],
   "source": [
    "evaluate_autoencoders_individual(logprob_good, logprob_bad, fmBiasFactor, wpBiasFactor, logprob_bad_parts, goodPos, badPos)"
   ]
  },
  {
   "cell_type": "code",
   "execution_count": null,
   "id": "6d78b867",
   "metadata": {},
   "outputs": [],
   "source": []
  }
 ],
 "metadata": {
  "kernelspec": {
   "display_name": "Python 3",
   "language": "python",
   "name": "python3"
  },
  "language_info": {
   "codemirror_mode": {
    "name": "ipython",
    "version": 3
   },
   "file_extension": ".py",
   "mimetype": "text/x-python",
   "name": "python",
   "nbconvert_exporter": "python",
   "pygments_lexer": "ipython3",
   "version": "3.9.12"
  }
 },
 "nbformat": 4,
 "nbformat_minor": 5
}
