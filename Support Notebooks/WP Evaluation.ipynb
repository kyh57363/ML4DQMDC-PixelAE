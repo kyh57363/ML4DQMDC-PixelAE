{
 "cells": [
  {
   "cell_type": "code",
   "execution_count": 18,
   "id": "90a30f02",
   "metadata": {},
   "outputs": [
    {
     "data": {
      "text/plain": [
       "<module 'HyperRectangleFitter' from '/eos/home-i01/k/khowey/SWAN_projects/ML4DQMDC-PixelAE/KH-AutoencoderTest/../src/cloudfitters/HyperRectangleFitter.py'>"
      ]
     },
     "execution_count": 18,
     "metadata": {},
     "output_type": "execute_result"
    }
   ],
   "source": [
    "### imports\n",
    "\n",
    "# external modules\n",
    "import os\n",
    "import sys\n",
    "import time\n",
    "import numpy as np\n",
    "import matplotlib.pyplot as plt\n",
    "import pandas as pd\n",
    "import importlib\n",
    "from sklearn.model_selection import train_test_split\n",
    "import tensorflow as tf\n",
    "from tensorflow import keras\n",
    "from keras import backend as K\n",
    "from tensorflow.keras.callbacks import ModelCheckpoint, EarlyStopping\n",
    "from tensorflow.keras.layers import Input, Dense, Concatenate\n",
    "from tensorflow.keras.models import Model, Sequential, load_model\n",
    "import importlib\n",
    "import pickle\n",
    "import math\n",
    "from sklearn.preprocessing import StandardScaler\n",
    "\n",
    "# local modules\n",
    "sys.path.append('../utils')\n",
    "import csv_utils as csvu\n",
    "import json_utils as jsonu\n",
    "import dataframe_utils as dfu\n",
    "import hist_utils as hu\n",
    "import autoencoder_utils as aeu\n",
    "import plot_utils as pu\n",
    "import generate_data_utils as gdu\n",
    "import refruns_utils as rru\n",
    "importlib.reload(csvu)\n",
    "importlib.reload(jsonu)\n",
    "importlib.reload(dfu)\n",
    "importlib.reload(hu)\n",
    "importlib.reload(aeu)\n",
    "importlib.reload(pu)\n",
    "importlib.reload(gdu)\n",
    "importlib.reload(rru)\n",
    "sys.path.append('../src')\n",
    "sys.path.append('../src/classifiers')\n",
    "sys.path.append('../src/cloudfitters')\n",
    "import HistStruct\n",
    "importlib.reload(HistStruct)\n",
    "import SubHistStruct\n",
    "importlib.reload(SubHistStruct)\n",
    "import FlexiStruct\n",
    "importlib.reload(FlexiStruct)\n",
    "import DataLoader\n",
    "importlib.reload(DataLoader)\n",
    "import AutoEncoder\n",
    "importlib.reload(AutoEncoder)\n",
    "import SeminormalFitter\n",
    "import GaussianKdeFitter\n",
    "import HyperRectangleFitter\n",
    "importlib.reload(SeminormalFitter)\n",
    "importlib.reload(GaussianKdeFitter)\n",
    "importlib.reload(HyperRectangleFitter)"
   ]
  },
  {
   "cell_type": "code",
   "execution_count": 29,
   "id": "5ed49725",
   "metadata": {},
   "outputs": [],
   "source": [
    "### Controls\n",
    "wpBiasFactor = 20\n",
    "fmBiasFactor = 2\n",
    "\n",
    "# Select a Job to examine\n",
    "job = 86\n",
    "\n",
    "badDataLength = 6"
   ]
  },
  {
   "cell_type": "code",
   "execution_count": 30,
   "id": "0e5716f0",
   "metadata": {},
   "outputs": [],
   "source": [
    "### Select out the data we want\n",
    "mse_train = np.loadtxt('DebugData/Train/T{}.csv'.format(job),delimiter = \",\")\n",
    "mse_good_eval = np.loadtxt('DebugData/Good/G{}.csv'.format(job),delimiter = \",\")\n",
    "mse_bad_eval = []\n",
    "for i in range(badDataLength):\n",
    "    mse_bad_eval.append(np.loadtxt('DebugData/Bad/B{}p{}.csv'.format(job, i),delimiter = \",\"))"
   ]
  },
  {
   "cell_type": "code",
   "execution_count": 4,
   "id": "932755b7",
   "metadata": {},
   "outputs": [],
   "source": [
    "### Print information about raw MSE data\n",
    "def evaluate_autoencoders_RAW(mse_good_eval, mse_bad_list, wpData):\n",
    "    workingPoints = wpData[0]\n",
    "    print(workingPoints)\n",
    "    \n",
    "    # Prepare data for comparison to WP\n",
    "    mse_good_test = np.array(mse_good_eval[int(wp_test_split * len(mse_good_eval)):])\n",
    "    mse_bad_eval = np.concatenate(tuple(mse_bad_list))\n",
    "    mse_bad_test = mse_bad_eval[int(wp_test_split * len(mse_bad_eval)):]\n",
    "    \n",
    "    labels_good = np.zeros(len(mse_good_test))\n",
    "    labels_bad = np.ones(len(mse_bad_test))\n",
    "    \n",
    "    # Percentage of histograms with issues to flag an anomaly\n",
    "    testWeight = 1\n",
    "    # Check each histogram and if a sufficient number are anomalous, flag the lumisection\n",
    "    anomalousList = []\n",
    "    preds_good = np.zeros(len(mse_good_test))\n",
    "    for i,lumi in enumerate(mse_good_test):\n",
    "        value = 0\n",
    "        for j,mse in enumerate(lumi):\n",
    "            if mse > workingPoints[j]:\n",
    "                value += 1\n",
    "        if value > 0:\n",
    "            preds_good[i] = 1\n",
    "\n",
    "    \n",
    "    # Same, but with known bad data\n",
    "    preds_bad = np.ones(len(mse_bad_test))\n",
    "    for i, lumi in enumerate(mse_bad_test):\n",
    "        value = 0\n",
    "        for j,mse in enumerate(lumi):\n",
    "            if mse > workingPoints[j]:\n",
    "                value += 1\n",
    "        if value > 0:\n",
    "            preds_bad[i] = 0\n",
    "            \n",
    "    labels = np.concatenate(tuple([labels_good, labels_bad]))\n",
    "    scores = np.concatenate(tuple([preds_good, preds_bad]))\n",
    "    \n",
    "    for i in range(len(workingPoints)):\n",
    "        plotMSE(mse_good_eval, mse_bad_eval, workingPoints, i)\n",
    "    \n",
    "    (_, _, _, tp, fp, tn, fn) = aeu.get_confusion_matrix(scores,labels)\n",
    "    \n",
    "    print(tp)\n",
    "    print(fp)\n",
    "    print(tn)\n",
    "    print(fn)\n",
    "    \n",
    "    # Get metrics for analysis\n",
    "    accuracy = (tp + tn) / (tp + fp + tn + fn)\n",
    "    precision = tp / (tp + fp)\n",
    "    recall = tp / (tp + fn)\n",
    "    f_measure = (1 + fmBiasFactor * fmBiasFactor) * ((precision * recall) / ((fmBiasFactor * fmBiasFactor * precision) + recall)) \n",
    "    \n",
    "    print('Accuracy: ' + str(accuracy))\n",
    "    print('Precision: ' + str(precision))\n",
    "    print('Recall: ' + str(recall))\n",
    "    print('F-Measure: ' + str(f_measure))"
   ]
  },
  {
   "cell_type": "code",
   "execution_count": 5,
   "id": "4fdd37eb",
   "metadata": {},
   "outputs": [],
   "source": [
    "### Simple plotting function for different MSEs\n",
    "def plotMSE(mse_good_all, mse_bad_all, wps, histIndex):\n",
    "    mse_good = mse_good_all[histIndex]\n",
    "    mse_bad = mse_bad_all[histIndex]\n",
    "    wp = wps[histIndex]\n",
    "    \n",
    "    maxVal = np.max((mse_good, mse_bad))\n",
    "    oOM = math.floor(math.log(maxVal, 10))\n",
    "    if oOM < 0: oOM *= -1\n",
    "    labels = ((np.zeros(len(mse_good))))\n",
    "    scores = ((mse_good))\n",
    "    \n",
    "    \n",
    "    (fig, ax) = pu.plot_score_dist(scores, labels, siglabel='anomalous', sigcolor='r', \n",
    "                       bcklabel='good', bckcolor='g', \n",
    "                       nbins=200, normalize=True,\n",
    "                       xaxtitle='negative logarithmic probability',\n",
    "                       yaxtitle='number of lumisections (normalized)',\n",
    "                       doshow=False)\n",
    "    plt.axvline(x=wp, color='b', label='WP')\n",
    "    plt.show()\n",
    "    print(wp)"
   ]
  },
  {
   "cell_type": "code",
   "execution_count": 36,
   "id": "e322d441",
   "metadata": {},
   "outputs": [
    {
     "ename": "NameError",
     "evalue": "name 'wpData' is not defined",
     "output_type": "error",
     "traceback": [
      "\u001b[0;31m---------------------------------------------------------------------------\u001b[0m",
      "\u001b[0;31mNameError\u001b[0m                                 Traceback (most recent call last)",
      "\u001b[0;32m/tmp/ipykernel_43616/3910784036.py\u001b[0m in \u001b[0;36m<module>\u001b[0;34m\u001b[0m\n\u001b[0;32m----> 1\u001b[0;31m \u001b[0mevaluate_autoencoders_combined\u001b[0m\u001b[0;34m(\u001b[0m\u001b[0mmse_good_eval\u001b[0m\u001b[0;34m,\u001b[0m \u001b[0mmse_bad_eval\u001b[0m\u001b[0;34m,\u001b[0m \u001b[0mwpData\u001b[0m\u001b[0;34m)\u001b[0m\u001b[0;34m\u001b[0m\u001b[0;34m\u001b[0m\u001b[0m\n\u001b[0m",
      "\u001b[0;31mNameError\u001b[0m: name 'wpData' is not defined"
     ]
    }
   ],
   "source": [
    "evaluate_autoencoders_combined(mse_good_eval, mse_bad_eval, wpData)"
   ]
  },
  {
   "cell_type": "code",
   "execution_count": null,
   "id": "064d59a5",
   "metadata": {},
   "outputs": [],
   "source": []
  },
  {
   "cell_type": "code",
   "execution_count": 31,
   "id": "a189a651",
   "metadata": {},
   "outputs": [],
   "source": [
    "### Plots and Distribution Analysis\n",
    "def fit_mse_distribution(mse_train):\n",
    "    dimslist = []\n",
    "    fitfunclist = []\n",
    "    \n",
    "    \n",
    "    nhisttypes = 96\n",
    "    for i in range(0,nhisttypes-1):\n",
    "        for j in range(i+1,nhisttypes):\n",
    "            dimslist.append((i, j))\n",
    "    \n",
    "    plt.close('all')\n",
    "    (npoints,ndims) = mse_train.shape\n",
    "    \n",
    "    \n",
    "    # settings for GaussianKdeFitter\n",
    "    scott_bw = npoints**(-1./(ndims+4))\n",
    "    bw_method = 20*scott_bw\n",
    "    # settings for HyperRectangleFitter\n",
    "    quantiles = ([0.00062,0.0006,0.00015,0.00015,\n",
    "                 0.0003,0.0003,0.00053,0.00065])\n",
    "    \n",
    "    \n",
    "    #for dims in dimslist:\n",
    "    #    thismse = mse_train[:,dims]\n",
    "    #    if training_mode=='global': \n",
    "    #        fitfunc = SeminormalFitter.SeminormalFitter(thismse)\n",
    "    #        #fitfunc = HyperRectangleFitter.HyperRectangleFitter(thismse, \n",
    "    #        #                                                    [quantiles[dims[0]],quantiles[dims[1]]],\n",
    "    #        #                                                    'up')\n",
    "    #    else: fitfunc = GaussianKdeFitter.GaussianKdeFitter(thismse,bw_method=bw_method)\n",
    "    #    #pu.plot_fit_2d(thismse, fitfunc=fitfunc, logprob=True, clipprob=True,\n",
    "    #    #                onlycontour=False, xlims=30, ylims=30, \n",
    "    #    #                onlypositive=True, transparency=0.5,\n",
    "    #    #                xaxtitle=histstruct.histnames[dims[0]], \n",
    "    #    #                yaxtitle=histstruct.histnames[dims[1]],\n",
    "    #    #                title='density fit of lumisection MSE')\n",
    "    #    ##plt.close('all') # release plot memory\n",
    "    #    fitfunclist.append(fitfunc)\n",
    "    # \n",
    "    #    \n",
    "    fitfunc = GaussianKdeFitter.GaussianKdeFitter()\n",
    "    fitfunc.fit(mse_train,bw_method=bw_method)\n",
    "    \n",
    "    return fitfunc"
   ]
  },
  {
   "cell_type": "code",
   "execution_count": 32,
   "id": "f49141af",
   "metadata": {},
   "outputs": [],
   "source": [
    "fitfunc = fit_mse_distribution(mse_train)"
   ]
  },
  {
   "cell_type": "code",
   "execution_count": 39,
   "id": "85c2b263",
   "metadata": {},
   "outputs": [],
   "source": [
    "### Prepare MSEs for Working Point Definition\n",
    "def mse_analysis(mse_good_eval, mse_bad_eval, fitfunc):\n",
    "    \n",
    "    # Get the minimum log probability of histograms in good set\n",
    "    print('--- good lumesections ---')\n",
    "    logprob_good = np.log(fitfunc.pdf(mse_good_eval))\n",
    "    print('length of log prob array: '+str(len(logprob_good)))\n",
    "    print('minimum of log prob: '+str(np.min(logprob_good)))\n",
    "    #print(sorted(logprob_good))\n",
    "    \n",
    "    print('--- bad lumisections ---')\n",
    "    logprob_bad_parts = [np.log(fitfunc.pdf(mse_bad_eval[j])) for j in range(len(mse_bad_eval))]\n",
    "    #for lp in logprob_bad_parts: print(str(sorted(lp))+'\\n\\n')\n",
    "    logprob_bad = np.concatenate(tuple(logprob_bad_parts))\n",
    "    \n",
    "    print('length of log prob array: '+str(len(logprob_bad)))\n",
    "    print('maximum of log prob: '+str(np.max(logprob_bad)))\n",
    "    #print(sorted(logprob_good))\n",
    "    #print(sorted(logprob_bad))\n",
    "    print(logprob_bad)\n",
    "    \n",
    "    sep = np.min(logprob_good) - np.max(logprob_bad)\n",
    "    print('Separability: ' + str(sep))\n",
    "    \n",
    "    return [logprob_good, logprob_bad]"
   ]
  },
  {
   "cell_type": "code",
   "execution_count": 40,
   "id": "f4a11c97",
   "metadata": {},
   "outputs": [
    {
     "name": "stdout",
     "output_type": "stream",
     "text": [
      "--- good lumesections ---\n",
      "length of log prob array: 3496\n",
      "minimum of log prob: nan\n",
      "--- bad lumisections ---\n",
      "length of log prob array: 1196\n",
      "maximum of log prob: nan\n",
      "[inf inf inf ... inf inf inf]\n",
      "Separability: nan\n"
     ]
    }
   ],
   "source": [
    "(logprob_good, logprob_bad) = mse_analysis(mse_good_eval, mse_bad_eval, fitfunc)"
   ]
  },
  {
   "cell_type": "code",
   "execution_count": 47,
   "id": "ce147bd5",
   "metadata": {},
   "outputs": [
    {
     "ename": "IndentationError",
     "evalue": "unexpected indent (1637382385.py, line 18)",
     "output_type": "error",
     "traceback": [
      "\u001b[0;36m  File \u001b[0;32m\"/tmp/ipykernel_7786/1637382385.py\"\u001b[0;36m, line \u001b[0;32m18\u001b[0m\n\u001b[0;31m    print(logprob_bad)\u001b[0m\n\u001b[0m    ^\u001b[0m\n\u001b[0;31mIndentationError\u001b[0m\u001b[0;31m:\u001b[0m unexpected indent\n"
     ]
    }
   ],
   "source": [
    "def evaluate_autoencoders_combined(logprob_good, logprob_bad, fmBiasFactor, wpBiasFactor):\n",
    "    labels_good = np.zeros(len(logprob_good)) # background: label = 0\n",
    "    labels_bad = np.ones(len(logprob_bad)) # signal: label = 1\n",
    "    \n",
    "    badMin = min(np.where(logprob_bad != -np.inf, logprob_bad, -1))\n",
    "    goodMax = max(np.where(logprob_good != np.inf, logprob_good, 10001))\n",
    "    \n",
    "    if np.isnan(goodMax): goodMax = 800\n",
    "    if np.isnan(badMin): badMin = 0\n",
    "    \n",
    "    logprob_good = np.where(logprob_good != np.inf, logprob_good, goodMax)\n",
    "    logprob_bad = np.where(logprob_bad != -np.inf, logprob_bad, badMin)\n",
    "    \n",
    "    # These only take effect if a histogram is grossly misclassified\n",
    "    logprob_good[logprob_good == -np.inf] = badMin\n",
    "    logprob_bad[logprob_bad == np.inf] = goodMax\n",
    "    \n",
    "    labels = np.concatenate(tuple([labels_good,labels_bad]))\n",
    "    scores = np.concatenate(tuple([-logprob_good,-logprob_bad]))\n",
    "    scores = aeu.clip_scores( scores )\n",
    "    \n",
    "    avSep = np.mean(logprob_good) - np.mean(logprob_bad)\n",
    "    \n",
    "    print('Average Separation: ' + str(avSep))\n",
    "    \n",
    "    # Setting a threshold, below this working point defines anomalous data\n",
    "    # Average is biased towards better recall per user specifications\n",
    "    logprob_threshold = (1/(wpBiasFactor + 1)) * (wpBiasFactor*np.mean(logprob_good) + np.mean(logprob_bad))\n",
    "    # Or set manual\n",
    "    # logprob_threshold = 400 \n",
    "    \n",
    "    \n",
    "    mis = np.where((labels==1) & (scores<-logprob_threshold),1,0).astype(bool)\n",
    "    labels2 = np.where(mis, 0, labels)\n",
    "    mis = np.where((labels2==0) & (scores>-logprob_threshold),1,0).astype(bool)\n",
    "    labels2 = np.where(mis, 1, labels2)\n",
    "    np.savetxt('./Labels.csv', labels2, delimiter=',')\n",
    "    \n",
    "    (fig, ax) = pu.plot_score_dist(scores, labels, siglabel='anomalous', sigcolor='r', \n",
    "                       bcklabel='good', bckcolor='g', \n",
    "                       nbins=200, normalize=True,\n",
    "                       xaxtitle='negative logarithmic probability',\n",
    "                       yaxtitle='number of lumisections (normalized)',\n",
    "                       doshow=False)\n",
    "    plt.axvline(x=-logprob_threshold, color='b', label='WP')\n",
    "    plt.show()\n",
    "      \n",
    "    # Plot ROC curve for analysis\n",
    "    auc = aeu.get_roc(scores, labels, mode='geom', doprint=False)\n",
    "    \n",
    "    (_, _, _, tp, fp, tn, fn) = aeu.get_confusion_matrix(scores, labels,-logprob_threshold)\n",
    "    print('Selected logprob threshold of ' + str(logprob_threshold))\n",
    "    \n",
    "    # Get metrics for analysis\n",
    "    accuracy = (tp + tn) / (tp + fp + tn + fn)\n",
    "    precision = tp / (tp + fp)\n",
    "    recall = tp / (tp + fn)\n",
    "    f_measure = (1 + fmBiasFactor * fmBiasFactor) * ((precision * recall) / ((fmBiasFactor * fmBiasFactor * precision) + recall)) \n",
    "    \n",
    "    print('Accuracy: ' + str(accuracy))\n",
    "    print('Precision: ' + str(precision))\n",
    "    print('Recall: ' + str(recall))\n",
    "    print('F-Measure: ' + str(f_measure))\n",
    "    \n",
    "    return logprob_threshold, labels2"
   ]
  },
  {
   "cell_type": "code",
   "execution_count": 48,
   "id": "08cc769b",
   "metadata": {
    "scrolled": false
   },
   "outputs": [
    {
     "name": "stdout",
     "output_type": "stream",
     "text": [
      "[inf inf inf ... inf inf inf]\n",
      "Average Separation: nan\n"
     ]
    },
    {
     "data": {
      "image/png": "[encoded data removed]",
      "text/plain": [
       "<Figure size 432x288 with 1 Axes>"
      ]
     },
     "metadata": {
      "needs_background": "light"
     },
     "output_type": "display_data"
    },
    {
     "name": "stderr",
     "output_type": "stream",
     "text": [
      "/eos/home-i01/k/khowey/SWAN_projects/ML4DQMDC-PixelAE/KH-AutoencoderTest/../utils/plot_utils.py:747: UserWarning: Data has no positive values, and therefore cannot be log-scaled.\n",
      "  if xaxlog: ax.set_xscale('log')\n"
     ]
    },
    {
     "data": {
      "image/png": "[encoded data removed]",
      "text/plain": [
       "<Figure size 432x288 with 1 Axes>"
      ]
     },
     "metadata": {
      "needs_background": "light"
     },
     "output_type": "display_data"
    },
    {
     "name": "stdout",
     "output_type": "stream",
     "text": [
      "Selected logprob threshold of nan\n",
      "Accuracy: 0.5\n",
      "Precision: nan\n",
      "Recall: 0.0\n",
      "F-Measure: nan\n"
     ]
    },
    {
     "name": "stderr",
     "output_type": "stream",
     "text": [
      "/tmp/ipykernel_7786/957400560.py:58: RuntimeWarning: invalid value encountered in double_scalars\n",
      "  precision = tp / (tp + fp)\n"
     ]
    },
    {
     "data": {
      "image/png": "[encoded data removed]",
      "text/plain": [
       "<Figure size 432x288 with 2 Axes>"
      ]
     },
     "metadata": {
      "needs_background": "light"
     },
     "output_type": "display_data"
    }
   ],
   "source": [
    "logprob_threshold, labels2 = evaluate_autoencoders_combined(logprob_good, logprob_bad, fmBiasFactor, wpBiasFactor)"
   ]
  },
  {
   "cell_type": "code",
   "execution_count": 35,
   "id": "f58c5196",
   "metadata": {},
   "outputs": [],
   "source": [
    "def evaluate_autoencoders_combined_fix(logprob_good, logprob_bad, fmBiasFactor, wpBiasFactor, labels2):\n",
    "    labels = labels2\n",
    "    labels_good = np.zeros(len(logprob_good)) # background: label = 0\n",
    "    labels_bad = np.ones(len(logprob_bad)) # signal: label = 1\n",
    "    \n",
    "    badMin = min(np.where(logprob_bad != -np.inf, logprob_bad, -1))\n",
    "    goodMax = max(np.where(logprob_good != np.inf, logprob_good, 10001))\n",
    "    \n",
    "    logprob_good = np.where(logprob_good != np.inf, logprob_good, goodMax)\n",
    "    logprob_bad = np.where(logprob_bad != -np.inf, logprob_bad, badMin)\n",
    "    \n",
    "    # These only take effect if a histogram is grossly misclassified\n",
    "    logprob_good[logprob_good == -np.inf] = badMin\n",
    "    logprob_bad[logprob_bad == np.inf] = goodMax\n",
    "    \n",
    "    scores = np.concatenate(tuple([-logprob_good,-logprob_bad]))\n",
    "    scores = aeu.clip_scores( scores )\n",
    "    \n",
    "    avSep = np.mean(logprob_good) - np.mean(logprob_bad)\n",
    "    \n",
    "    print('Average Separation: ' + str(avSep))\n",
    "    \n",
    "    # Setting a threshold, below this working point defines anomalous data\n",
    "    # Average is biased towards better recall per user specifications\n",
    "    logprob_threshold = (1/(wpBiasFactor + 1)) * (wpBiasFactor*np.mean(logprob_good) + np.mean(logprob_bad))\n",
    "    # Or set manual\n",
    "    # logprob_threshold = 400 \n",
    "    \n",
    "    \n",
    "    (fig, ax) = pu.plot_score_dist(scores, labels2, siglabel='anomalous', sigcolor='r', \n",
    "                       bcklabel='good', bckcolor='g', \n",
    "                       nbins=200, normalize=True,\n",
    "                       xaxtitle='negative logarithmic probability',\n",
    "                       yaxtitle='number of lumisections (normalized)',\n",
    "                       doshow=False)\n",
    "    plt.axvline(x=-logprob_threshold, color='b', label='WP')\n",
    "    plt.show()\n",
    "      \n",
    "    # Plot ROC curve for analysis\n",
    "    auc = aeu.get_roc(scores, labels2, mode='geom', doprint=False)\n",
    "    \n",
    "    (_, _, _, tp, fp, tn, fn) = aeu.get_confusion_matrix(scores, labels2,-logprob_threshold)\n",
    "    print('Selected logprob threshold of ' + str(logprob_threshold))\n",
    "    \n",
    "    # Get metrics for analysis\n",
    "    accuracy = (tp + tn) / (tp + fp + tn + fn)\n",
    "    precision = tp / (tp + fp)\n",
    "    recall = tp / (tp + fn)\n",
    "    f_measure = (1 + fmBiasFactor * fmBiasFactor) * ((precision * recall) / ((fmBiasFactor * fmBiasFactor * precision) + recall)) \n",
    "    \n",
    "    print('Accuracy: ' + str(accuracy))\n",
    "    print('Precision: ' + str(precision))\n",
    "    print('Recall: ' + str(recall))\n",
    "    print('F-Measure: ' + str(f_measure))\n",
    "    \n",
    "    return logprob_threshold"
   ]
  },
  {
   "cell_type": "code",
   "execution_count": 36,
   "id": "59e015f4",
   "metadata": {},
   "outputs": [
    {
     "name": "stdout",
     "output_type": "stream",
     "text": [
      "Average Separation: nan\n"
     ]
    },
    {
     "data": {
      "image/png": "[encoded data removed]",
      "text/plain": [
       "<Figure size 432x288 with 1 Axes>"
      ]
     },
     "metadata": {
      "needs_background": "light"
     },
     "output_type": "display_data"
    },
    {
     "name": "stderr",
     "output_type": "stream",
     "text": [
      "/eos/home-i01/k/khowey/SWAN_projects/ML4DQMDC-PixelAE/KH-AutoencoderTest/../utils/plot_utils.py:747: UserWarning: Data has no positive values, and therefore cannot be log-scaled.\n",
      "  if xaxlog: ax.set_xscale('log')\n"
     ]
    },
    {
     "data": {
      "image/png": "[encoded data removed]",
      "text/plain": [
       "<Figure size 432x288 with 1 Axes>"
      ]
     },
     "metadata": {
      "needs_background": "light"
     },
     "output_type": "display_data"
    },
    {
     "name": "stdout",
     "output_type": "stream",
     "text": [
      "Selected logprob threshold of nan\n",
      "Accuracy: 0.5\n",
      "Precision: nan\n",
      "Recall: 0.0\n",
      "F-Measure: nan\n"
     ]
    },
    {
     "name": "stderr",
     "output_type": "stream",
     "text": [
      "/tmp/ipykernel_7786/3747684355.py:47: RuntimeWarning: invalid value encountered in double_scalars\n",
      "  precision = tp / (tp + fp)\n"
     ]
    },
    {
     "data": {
      "text/plain": [
       "nan"
      ]
     },
     "execution_count": 36,
     "metadata": {},
     "output_type": "execute_result"
    },
    {
     "data": {
      "image/png": "[encoded data removed]",
      "text/plain": [
       "<Figure size 432x288 with 2 Axes>"
      ]
     },
     "metadata": {
      "needs_background": "light"
     },
     "output_type": "display_data"
    }
   ],
   "source": [
    "evaluate_autoencoders_combined_fix(logprob_good, logprob_bad, fmBiasFactor, wpBiasFactor, labels2)"
   ]
  },
  {
   "cell_type": "code",
   "execution_count": null,
   "id": "01bc8352",
   "metadata": {},
   "outputs": [],
   "source": []
  }
 ],
 "metadata": {
  "kernelspec": {
   "display_name": "Python 3",
   "language": "python",
   "name": "python3"
  },
  "language_info": {
   "codemirror_mode": {
    "name": "ipython",
    "version": 3
   },
   "file_extension": ".py",
   "mimetype": "text/x-python",
   "name": "python",
   "nbconvert_exporter": "python",
   "pygments_lexer": "ipython3",
   "version": "3.9.12"
  }
 },
 "nbformat": 4,
 "nbformat_minor": 5
}
