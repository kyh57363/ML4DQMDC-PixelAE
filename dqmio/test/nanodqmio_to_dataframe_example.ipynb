{
 "cells": [
  {
   "cell_type": "markdown",
   "id": "6c52f044",
   "metadata": {},
   "source": [
    "**Test for converting a nanoDQMIO file (via the DQMIOReader) to a pandas dataframe for further processing**"
   ]
  },
  {
   "cell_type": "code",
   "execution_count": null,
   "id": "4ae9359f",
   "metadata": {},
   "outputs": [],
   "source": [
    "### imports\n",
    "\n",
    "import os\n",
    "import sys\n",
    "import DQMIOReader\n",
    "import importlib\n",
    "importlib.reload(DQMIOReader)"
   ]
  },
  {
   "cell_type": "code",
   "execution_count": null,
   "id": "c11fbe28",
   "metadata": {},
   "outputs": [],
   "source": [
    "### read a file\n",
    "\n",
    "#filename = 'examplefile_nanoDQMIO_20220203.root'\n",
    "filename = '/eos/home-l/llambrec/Documents/ML4DQM-DC/temp_input_files_nanodqmio/examplefile_nanoDQMIO_store_data_Commissioning2021_MinimumBias_DQMIO_900GeVmkFit-v2_80000_03C9A2CC-607F-11EC-BBA5-0421A8C0BEEF.root'\n",
    "reader = DQMIOReader.DQMIOReader(filename)"
   ]
  },
  {
   "cell_type": "code",
   "execution_count": null,
   "id": "d1ccdc19",
   "metadata": {},
   "outputs": [],
   "source": [
    "### convert to dataframe\n",
    "\n",
    "hname = 'PixelPhase1/Tracks/PXBarrel/chargeInner_PXLayer_1'\n",
    "df = reader.getSingleMEsToDataFrame(hname)"
   ]
  },
  {
   "cell_type": "code",
   "execution_count": null,
   "id": "aa3910a5",
   "metadata": {},
   "outputs": [],
   "source": [
    "### print the dataframe\n",
    "\n",
    "print(df)"
   ]
  },
  {
   "cell_type": "code",
   "execution_count": null,
   "id": "25657de2",
   "metadata": {},
   "outputs": [],
   "source": []
  }
 ],
 "metadata": {
  "kernelspec": {
   "display_name": "Python 3",
   "language": "python",
   "name": "python3"
  },
  "language_info": {
   "codemirror_mode": {
    "name": "ipython",
    "version": 3
   },
   "file_extension": ".py",
   "mimetype": "text/x-python",
   "name": "python",
   "nbconvert_exporter": "python",
   "pygments_lexer": "ipython3",
   "version": "3.9.6"
  }
 },
 "nbformat": 4,
 "nbformat_minor": 5
}
