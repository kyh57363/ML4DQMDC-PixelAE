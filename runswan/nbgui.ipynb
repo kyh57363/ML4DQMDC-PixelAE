{
 "cells": [
  {
   "cell_type": "code",
   "execution_count": null,
   "id": "81652ff2",
   "metadata": {},
   "outputs": [],
   "source": [
    "import nbgui\n",
    "import importlib\n",
    "importlib.reload(nbgui)\n",
    "\n",
    "gui = nbgui.ML4DQMGUI()"
   ]
  },
  {
   "cell_type": "code",
   "execution_count": null,
   "id": "5441515e",
   "metadata": {},
   "outputs": [],
   "source": [
    "gui.display()"
   ]
  },
  {
   "cell_type": "code",
   "execution_count": null,
   "id": "38b36f41",
   "metadata": {},
   "outputs": [],
   "source": []
  },
  {
   "cell_type": "code",
   "execution_count": null,
   "id": "b9b1d8f9",
   "metadata": {},
   "outputs": [],
   "source": []
  }
 ],
 "metadata": {
  "kernelspec": {
   "display_name": "Python 3",
   "language": "python",
   "name": "python3"
  },
  "language_info": {
   "codemirror_mode": {
    "name": "ipython",
    "version": 3
   },
   "file_extension": ".py",
   "mimetype": "text/x-python",
   "name": "python",
   "nbconvert_exporter": "python",
   "pygments_lexer": "ipython3",
   "version": "3.9.6"
  }
 },
 "nbformat": 4,
 "nbformat_minor": 5
}
