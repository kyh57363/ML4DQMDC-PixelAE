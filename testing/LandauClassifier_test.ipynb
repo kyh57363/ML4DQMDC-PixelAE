{
 "cells": [
  {
   "cell_type": "code",
   "execution_count": null,
   "id": "dfe4b526",
   "metadata": {},
   "outputs": [],
   "source": [
    "### imports\n",
    "\n",
    "# external modules\n",
    "import sys\n",
    "import pandas as pd\n",
    "import numpy as np\n",
    "import matplotlib.pyplot as plt\n",
    "import math\n",
    "import time\n",
    "import importlib\n",
    "\n",
    "# local modules\n",
    "sys.path.append('../utils')\n",
    "import csv_utils as csvu\n",
    "import json_utils as jsonu\n",
    "import dataframe_utils as dfu\n",
    "import hist_utils as hu\n",
    "import autoencoder_utils as aeu\n",
    "import plot_utils as pu\n",
    "import generate_data_utils as gdu\n",
    "import refruns_utils as rru\n",
    "importlib.reload(csvu)\n",
    "importlib.reload(jsonu)\n",
    "importlib.reload(dfu)\n",
    "importlib.reload(hu)\n",
    "importlib.reload(aeu)\n",
    "importlib.reload(pu)\n",
    "importlib.reload(gdu)\n",
    "importlib.reload(rru)\n",
    "sys.path.append('../src')\n",
    "sys.path.append('../src/classifiers')\n",
    "import LandauClassifier\n",
    "importlib.reload(LandauClassifier)"
   ]
  },
  {
   "cell_type": "code",
   "execution_count": null,
   "id": "7ccf31d9",
   "metadata": {},
   "outputs": [],
   "source": [
    "### load test histograms\n",
    "    \n",
    "histname = 'chargeInner_PXLayer_2'\n",
    "dffile = '../data/DF2017_{}.csv'.format(histname)\n",
    "histdf = csvu.read_csv(dffile)\n",
    "histdf = dfu.select_dcson(histdf)\n",
    "histdf = dfu.select_highstat(histdf)\n",
    "print(len(histdf))\n",
    "\n",
    "(hists_train) = hu.preparedatafromdf(histdf, donormalize=True, doplot=False)\n",
    "print(hists_train.shape)"
   ]
  },
  {
   "cell_type": "code",
   "execution_count": null,
   "id": "166c8102",
   "metadata": {},
   "outputs": [],
   "source": [
    "### define a LandauClassifier\n",
    "\n",
    "importlib.reload(LandauClassifier)\n",
    "classifier = LandauClassifier.LandauClassifier( dogauss=True )"
   ]
  },
  {
   "cell_type": "code",
   "execution_count": null,
   "id": "bace9827",
   "metadata": {},
   "outputs": [],
   "source": [
    "### do some example reconstructions\n",
    "\n",
    "inds = range(50896,50912)\n",
    "\n",
    "hists = np.zeros((len(inds),hists_train.shape[1]))\n",
    "recos = np.zeros((len(inds),hists_train.shape[1]))\n",
    "\n",
    "starttime = time.time()\n",
    "for i, ind in enumerate(inds):\n",
    "    hists[i,:] = hists_train[ind,:]\n",
    "    recos[i,:] = classifier.reconstruct(hists[i:i+1])\n",
    "endtime = time.time()\n",
    "print('reconstruction finished in {} seconds'.format(endtime-starttime))\n",
    "\n",
    "for i in range(len(hists)):\n",
    "    hist = hists[i]\n",
    "    reco = recos[i]\n",
    "    \n",
    "    # with initial parameters\n",
    "    landaumax = np.argmax(hist)\n",
    "    landauwidth = landaumax/6.\n",
    "    norm = np.sum(hist)/4.\n",
    "    gausswidth = landauwidth\n",
    "    xdata = np.arange(0, len(hist))\n",
    "    landau = classifier.fitfunc( xdata, landaumax, landauwidth, norm, gausswidth )\n",
    "    pu.plot_hists( [hist,landau], \n",
    "                    colorlist=['black','red'], \n",
    "                    labellist=['orig','landau'] )\n",
    "    \n",
    "    # do fit\n",
    "    pu.plot_hists( [hist,reco], \n",
    "                    colorlist=['black','red'], \n",
    "                    labellist=['orig','reco'] )"
   ]
  },
  {
   "cell_type": "code",
   "execution_count": null,
   "id": "bc94920b",
   "metadata": {},
   "outputs": [],
   "source": [
    "xdata = np.arange(0, 100)\n",
    "landaumax = 20\n",
    "landauwidth = 5\n",
    "norm = 1\n",
    "y = np.divide(xdata-landaumax,landauwidth)\n",
    "landau = norm/np.sqrt(2.*np.pi)*np.exp( -(y+np.exp(-y))/2. )\n",
    "plt.figure()\n",
    "plt.plot(xdata, landau)\n",
    "\n",
    "gausswidth = 0.1\n",
    "xgdata = np.linspace(-5*gausswidth,5*gausswidth,num=100)\n",
    "gauss = np.exp( -0.5*np.power(xgdata/gausswidth,2) )/(np.sqrt(2*np.pi)*gausswidth)\n",
    "plt.figure()\n",
    "plt.plot(xgdata, gauss)\n",
    "\n",
    "conv = np.convolve(landau, gauss, mode='same')\n",
    "plt.figure()\n",
    "plt.plot(xdata, conv)"
   ]
  },
  {
   "cell_type": "code",
   "execution_count": null,
   "id": "3a4f462b",
   "metadata": {},
   "outputs": [],
   "source": []
  }
 ],
 "metadata": {
  "kernelspec": {
   "display_name": "Python 3",
   "language": "python",
   "name": "python3"
  },
  "language_info": {
   "codemirror_mode": {
    "name": "ipython",
    "version": 3
   },
   "file_extension": ".py",
   "mimetype": "text/x-python",
   "name": "python",
   "nbconvert_exporter": "python",
   "pygments_lexer": "ipython3",
   "version": "3.9.6"
  }
 },
 "nbformat": 4,
 "nbformat_minor": 5
}
