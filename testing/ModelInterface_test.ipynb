{
 "cells": [
  {
   "cell_type": "code",
   "execution_count": null,
   "id": "a1549fb1",
   "metadata": {},
   "outputs": [],
   "source": [
    "### imports\n",
    "\n",
    "# external modules\n",
    "import sys\n",
    "import importlib\n",
    "import numpy as np\n",
    "\n",
    "# local modules\n",
    "sys.path.append('../utils')\n",
    "import json_utils as jsonu\n",
    "import csv_utils as csvu\n",
    "import hist_utils as hu\n",
    "sys.path.append('../src')\n",
    "sys.path.append('../src/classifiers')\n",
    "sys.path.append('../src/cloudfitters')\n",
    "import ModelInterface\n",
    "importlib.reload(ModelInterface)\n",
    "from ModelInterface import ModelInterface\n",
    "from NMFClassifier import NMFClassifier\n",
    "import SeminormalFitter\n",
    "importlib.reload(SeminormalFitter)\n",
    "from SeminormalFitter import SeminormalFitter"
   ]
  },
  {
   "cell_type": "code",
   "execution_count": null,
   "id": "d5fee1c4",
   "metadata": {},
   "outputs": [],
   "source": [
    "### create a ModelInterface\n",
    "\n",
    "model = ModelInterface( 'a_test_model', ['histogram1', 'histogram2'] )\n",
    "print(model)"
   ]
  },
  {
   "cell_type": "code",
   "execution_count": null,
   "id": "da596bec",
   "metadata": {},
   "outputs": [],
   "source": [
    "### add classifiers\n",
    "\n",
    "model.set_classifiers( {'histogram1': NMFClassifier(), 'histogram2': NMFClassifier()} )\n",
    "print(model)"
   ]
  },
  {
   "cell_type": "code",
   "execution_count": null,
   "id": "6693db76",
   "metadata": {},
   "outputs": [],
   "source": [
    "### add a fitter\n",
    "\n",
    "model.set_fitter( SeminormalFitter() )\n",
    "print(model)"
   ]
  },
  {
   "cell_type": "code",
   "execution_count": null,
   "id": "37cdf115",
   "metadata": {},
   "outputs": [],
   "source": [
    "### save the model\n",
    "\n",
    "model.save( 'modelinterface_test' )\n",
    "print(model)"
   ]
  },
  {
   "cell_type": "code",
   "execution_count": null,
   "id": "14c8cc11",
   "metadata": {},
   "outputs": [],
   "source": [
    "### load the model\n",
    "\n",
    "model2 = ModelInterface.load( 'modelinterface_test' )\n",
    "print(model2)"
   ]
  }
 ],
 "metadata": {
  "kernelspec": {
   "display_name": "Python 3",
   "language": "python",
   "name": "python3"
  },
  "language_info": {
   "codemirror_mode": {
    "name": "ipython",
    "version": 3
   },
   "file_extension": ".py",
   "mimetype": "text/x-python",
   "name": "python",
   "nbconvert_exporter": "python",
   "pygments_lexer": "ipython3",
   "version": "3.9.6"
  }
 },
 "nbformat": 4,
 "nbformat_minor": 5
}
